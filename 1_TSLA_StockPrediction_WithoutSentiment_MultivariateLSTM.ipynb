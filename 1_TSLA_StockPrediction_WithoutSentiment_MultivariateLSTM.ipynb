{
 "cells": [
  {
   "cell_type": "code",
   "execution_count": 21,
   "metadata": {},
   "outputs": [],
   "source": [
    "import datetime\n",
    "import numpy\n",
    "import ray\n",
    "import torch\n",
    "#\n",
    "import matplotlib.pyplot as plt\n",
    "plt.rcParams['figure.figsize'] = (8,4)\n",
    "plt.rcParams['axes.grid'] = True\n",
    "plt.rcParams.update({'font.size': 12})\n",
    "import pandas as pd\n",
    "import torch.nn as nn\n",
    "import yfinance as yf\n",
    "#\n",
    "from sklearn.preprocessing import MinMaxScaler\n",
    "from ray import train,tune\n",
    "from torch.autograd import Variable"
   ]
  },
  {
   "cell_type": "code",
   "execution_count": 22,
   "metadata": {},
   "outputs": [
    {
     "name": "stdout",
     "output_type": "stream",
     "text": [
      "[*********************100%%**********************]  1 of 1 completed\n"
     ]
    },
    {
     "data": {
      "text/html": [
       "<div>\n",
       "<style scoped>\n",
       "    .dataframe tbody tr th:only-of-type {\n",
       "        vertical-align: middle;\n",
       "    }\n",
       "\n",
       "    .dataframe tbody tr th {\n",
       "        vertical-align: top;\n",
       "    }\n",
       "\n",
       "    .dataframe thead th {\n",
       "        text-align: right;\n",
       "    }\n",
       "</style>\n",
       "<table border=\"1\" class=\"dataframe\">\n",
       "  <thead>\n",
       "    <tr style=\"text-align: right;\">\n",
       "      <th></th>\n",
       "      <th>Open</th>\n",
       "      <th>High</th>\n",
       "      <th>Low</th>\n",
       "      <th>Close</th>\n",
       "      <th>Adj Close</th>\n",
       "      <th>Volume</th>\n",
       "    </tr>\n",
       "    <tr>\n",
       "      <th>Date</th>\n",
       "      <th></th>\n",
       "      <th></th>\n",
       "      <th></th>\n",
       "      <th></th>\n",
       "      <th></th>\n",
       "      <th></th>\n",
       "    </tr>\n",
       "  </thead>\n",
       "  <tbody>\n",
       "    <tr>\n",
       "      <th>2020-01-02</th>\n",
       "      <td>28.299999</td>\n",
       "      <td>28.713333</td>\n",
       "      <td>28.114000</td>\n",
       "      <td>28.684000</td>\n",
       "      <td>28.684000</td>\n",
       "      <td>142981500</td>\n",
       "    </tr>\n",
       "    <tr>\n",
       "      <th>2020-01-03</th>\n",
       "      <td>29.366667</td>\n",
       "      <td>30.266666</td>\n",
       "      <td>29.128000</td>\n",
       "      <td>29.534000</td>\n",
       "      <td>29.534000</td>\n",
       "      <td>266677500</td>\n",
       "    </tr>\n",
       "    <tr>\n",
       "      <th>2020-01-06</th>\n",
       "      <td>29.364668</td>\n",
       "      <td>30.104000</td>\n",
       "      <td>29.333332</td>\n",
       "      <td>30.102667</td>\n",
       "      <td>30.102667</td>\n",
       "      <td>151995000</td>\n",
       "    </tr>\n",
       "    <tr>\n",
       "      <th>2020-01-07</th>\n",
       "      <td>30.760000</td>\n",
       "      <td>31.441999</td>\n",
       "      <td>30.224001</td>\n",
       "      <td>31.270666</td>\n",
       "      <td>31.270666</td>\n",
       "      <td>268231500</td>\n",
       "    </tr>\n",
       "    <tr>\n",
       "      <th>2020-01-08</th>\n",
       "      <td>31.580000</td>\n",
       "      <td>33.232666</td>\n",
       "      <td>31.215334</td>\n",
       "      <td>32.809334</td>\n",
       "      <td>32.809334</td>\n",
       "      <td>467164500</td>\n",
       "    </tr>\n",
       "    <tr>\n",
       "      <th>...</th>\n",
       "      <td>...</td>\n",
       "      <td>...</td>\n",
       "      <td>...</td>\n",
       "      <td>...</td>\n",
       "      <td>...</td>\n",
       "      <td>...</td>\n",
       "    </tr>\n",
       "    <tr>\n",
       "      <th>2020-12-23</th>\n",
       "      <td>210.733337</td>\n",
       "      <td>217.166672</td>\n",
       "      <td>207.523331</td>\n",
       "      <td>215.326660</td>\n",
       "      <td>215.326660</td>\n",
       "      <td>99519000</td>\n",
       "    </tr>\n",
       "    <tr>\n",
       "      <th>2020-12-24</th>\n",
       "      <td>214.330002</td>\n",
       "      <td>222.029999</td>\n",
       "      <td>213.666672</td>\n",
       "      <td>220.589996</td>\n",
       "      <td>220.589996</td>\n",
       "      <td>68596800</td>\n",
       "    </tr>\n",
       "    <tr>\n",
       "      <th>2020-12-28</th>\n",
       "      <td>224.836670</td>\n",
       "      <td>227.133331</td>\n",
       "      <td>220.266663</td>\n",
       "      <td>221.229996</td>\n",
       "      <td>221.229996</td>\n",
       "      <td>96835800</td>\n",
       "    </tr>\n",
       "    <tr>\n",
       "      <th>2020-12-29</th>\n",
       "      <td>220.333328</td>\n",
       "      <td>223.300003</td>\n",
       "      <td>218.333328</td>\n",
       "      <td>221.996674</td>\n",
       "      <td>221.996674</td>\n",
       "      <td>68732400</td>\n",
       "    </tr>\n",
       "    <tr>\n",
       "      <th>2020-12-30</th>\n",
       "      <td>224.000000</td>\n",
       "      <td>232.199997</td>\n",
       "      <td>222.786667</td>\n",
       "      <td>231.593338</td>\n",
       "      <td>231.593338</td>\n",
       "      <td>128538000</td>\n",
       "    </tr>\n",
       "  </tbody>\n",
       "</table>\n",
       "<p>252 rows × 6 columns</p>\n",
       "</div>"
      ],
      "text/plain": [
       "                  Open        High         Low       Close   Adj Close  \\\n",
       "Date                                                                     \n",
       "2020-01-02   28.299999   28.713333   28.114000   28.684000   28.684000   \n",
       "2020-01-03   29.366667   30.266666   29.128000   29.534000   29.534000   \n",
       "2020-01-06   29.364668   30.104000   29.333332   30.102667   30.102667   \n",
       "2020-01-07   30.760000   31.441999   30.224001   31.270666   31.270666   \n",
       "2020-01-08   31.580000   33.232666   31.215334   32.809334   32.809334   \n",
       "...                ...         ...         ...         ...         ...   \n",
       "2020-12-23  210.733337  217.166672  207.523331  215.326660  215.326660   \n",
       "2020-12-24  214.330002  222.029999  213.666672  220.589996  220.589996   \n",
       "2020-12-28  224.836670  227.133331  220.266663  221.229996  221.229996   \n",
       "2020-12-29  220.333328  223.300003  218.333328  221.996674  221.996674   \n",
       "2020-12-30  224.000000  232.199997  222.786667  231.593338  231.593338   \n",
       "\n",
       "               Volume  \n",
       "Date                   \n",
       "2020-01-02  142981500  \n",
       "2020-01-03  266677500  \n",
       "2020-01-06  151995000  \n",
       "2020-01-07  268231500  \n",
       "2020-01-08  467164500  \n",
       "...               ...  \n",
       "2020-12-23   99519000  \n",
       "2020-12-24   68596800  \n",
       "2020-12-28   96835800  \n",
       "2020-12-29   68732400  \n",
       "2020-12-30  128538000  \n",
       "\n",
       "[252 rows x 6 columns]"
      ]
     },
     "execution_count": 22,
     "metadata": {},
     "output_type": "execute_result"
    }
   ],
   "source": [
    "# load dataset\n",
    "start_time_all = datetime.datetime(2020, 1, 1).strftime('%Y-%m-%d') # 2020-01-01\n",
    "end_time_train = datetime.datetime(2020, 9, 30).strftime('%Y-%m-%d') # 2020-09-30\n",
    "start_time_val = datetime.datetime(2020, 10, 1).strftime('%Y-%m-%d') # 2020-10-01\n",
    "end_time_all = datetime.datetime(2020, 12, 31).strftime('%Y-%m-%d') # 2020-12-31\n",
    "\n",
    "# loading Tesla, Inc. (TSLA) stock price data from Yahoo Finance\n",
    "tsla_price_df = yf.download('TSLA', start=start_time_all, end=end_time_all)\n",
    "tsla_price_df.index = pd.to_datetime(tsla_price_df.index)\n",
    "tsla_price_df"
   ]
  },
  {
   "cell_type": "code",
   "execution_count": 23,
   "metadata": {},
   "outputs": [],
   "source": [
    "# features (High price, Low price, Open price, Close price, Volume)\n",
    "tsla_price_df = tsla_price_df.dropna()\n",
    "X = tsla_price_df.iloc[:, tsla_price_df.columns != 'Adj Close']\n",
    "# response (Adj Close price)\n",
    "y = tsla_price_df.loc[:, 'Adj Close']"
   ]
  },
  {
   "cell_type": "code",
   "execution_count": 24,
   "metadata": {},
   "outputs": [
    {
     "data": {
      "image/png": "[encoded data removed]",
      "text/plain": [
       "<Figure size 800x400 with 1 Axes>"
      ]
     },
     "metadata": {},
     "output_type": "display_data"
    }
   ],
   "source": [
    "# plotting TSLA Adj Close price from 2020-01-01 to 2020-12-31\n",
    "plt.plot(y)\n",
    "plt.xlabel('\\nDate')\n",
    "plt.ylabel('Adj Close Price\\n')\n",
    "plt.title('TSLA Adj Close Price')\n",
    "plt.show()"
   ]
  },
  {
   "cell_type": "code",
   "execution_count": 25,
   "metadata": {},
   "outputs": [
    {
     "name": "stdout",
     "output_type": "stream",
     "text": [
      "Training Set Shape  (189, 5) (189, 1)\n"
     ]
    }
   ],
   "source": [
    "# train/test splitting\n",
    "n_split = 189 # where to split training and validation datasets\n",
    "\n",
    "# normalizing datasets (this introduces lookahead bias, to be fixed)\n",
    "scaler = MinMaxScaler()\n",
    "X_norm = scaler.fit_transform(X)\n",
    "y_norm = scaler.fit_transform(y.values.reshape(1, -1).reshape(-1, 1))\n",
    "\n",
    "# training using Jan - Sep data\n",
    "# validating trained model using Oct - Dec data\n",
    "X_train = X_norm[:n_split, :]\n",
    "y_train = y_norm[:n_split, :]\n",
    "\n",
    "print('Training Set Shape ', X_train.shape, y_train.shape)"
   ]
  },
  {
   "cell_type": "code",
   "execution_count": 26,
   "metadata": {},
   "outputs": [
    {
     "name": "stdout",
     "output_type": "stream",
     "text": [
      "Training Set Shape    torch.Size([189, 1, 5]) torch.Size([189, 1])\n",
      "Validation Set Shape  torch.Size([252, 1, 5]) (252, 1)\n"
     ]
    }
   ],
   "source": [
    "# converting data to tensors\n",
    "X_train_tensors = Variable(torch.Tensor(X_train))\n",
    "y_train_tensors = Variable(torch.Tensor(y_train))\n",
    "\n",
    "X_val_tensors = Variable(torch.Tensor(X_norm))\n",
    "y_true = numpy.array(y).reshape(-1, 1)\n",
    "\n",
    "# reshaping X dataset\n",
    "X_train_tensors = torch.reshape(X_train_tensors, (X_train_tensors.shape[0], \n",
    "                                                  1, X_train_tensors.shape[1]))\n",
    "X_val_tensors = torch.reshape(X_val_tensors, (X_val_tensors.shape[0], \n",
    "                                              1, X_val_tensors.shape[1]))\n",
    "\n",
    "print('Training Set Shape   ', X_train_tensors.shape, y_train_tensors.shape)\n",
    "print('Validation Set Shape ', X_val_tensors.shape, y_true.shape)"
   ]
  },
  {
   "cell_type": "code",
   "execution_count": 27,
   "metadata": {},
   "outputs": [],
   "source": [
    "# LSTM\n",
    "# selecting gpu\n",
    "device = torch.device('cpu')"
   ]
  },
  {
   "cell_type": "code",
   "execution_count": 28,
   "metadata": {},
   "outputs": [],
   "source": [
    "class LSTM_model(nn.Module):\n",
    "    def __init__(self, input_size, hidden_size, num_layers, num_classes):\n",
    "        super(LSTM_model, self).__init__()\n",
    "        self.input_size = input_size # number of features\n",
    "        self.hidden_size = hidden_size # number of features in hidden state\n",
    "        self.num_layers = num_layers # number of stacked LSTM layers\n",
    "        self.num_classes = num_classes # number of output classes\n",
    "    \n",
    "        self.lstm = nn.LSTM(input_size=input_size, hidden_size=hidden_size, \n",
    "                            num_layers=num_layers, batch_first=True) # LSTM layer\n",
    "        self.fc = nn.Linear(hidden_size, num_classes) # fully connected last layer\n",
    "\n",
    "    def forward(self, x):\n",
    "        h0 = Variable(torch.zeros(self.num_layers, x.size(0), \n",
    "                                  self.hidden_size)).to(device) # hidden state\n",
    "        c0 = Variable(torch.zeros(self.num_layers, x.size(0), \n",
    "                                  self.hidden_size)).to(device) # internal state\n",
    "        # propagating input through LSTM\n",
    "        out, _ = self.lstm(x, (h0, c0)) # out: tensor of shape (seq_length, batch_size, hidden_size)\n",
    "        # decoding hidden state of last time step\n",
    "        out = self.fc(out[:, -1, :])\n",
    "        return out"
   ]
  },
  {
   "cell_type": "code",
   "execution_count": 29,
   "metadata": {},
   "outputs": [],
   "source": [
    "# function for calculating MSE (Mean Squared Error)\n",
    "def calc_mse(y_true, y_hat):\n",
    "    mse = float(sum((y_true - y_hat) * (y_true - y_hat)) / len(y_hat))\n",
    "    return mse"
   ]
  },
  {
   "cell_type": "code",
   "execution_count": 30,
   "metadata": {},
   "outputs": [],
   "source": [
    "# function for fitting and evaluating model using different hyperparameters\n",
    "def model_fit_eval(config=None, best_config=None, save_model_state=False):\n",
    "    if best_config is None:\n",
    "        hidden_size = config['hidden_size']\n",
    "        num_layers = config['num_layers']\n",
    "        learning_rate = config['learning_rate']\n",
    "        # learning rate controls how much to change model in response to estm error each time model weights are updated\n",
    "        num_epochs = config['num_epochs']\n",
    "    else:\n",
    "        hidden_size = best_config['hidden_size']\n",
    "        num_layers = best_config['num_layers']\n",
    "        learning_rate = best_config['learning_rate']\n",
    "        num_epochs = best_config['num_epochs']\n",
    "\n",
    "    input_size = len(X.columns)\n",
    "    num_classes = 1\n",
    "    \n",
    "    model = LSTM_model(input_size, hidden_size, num_layers, num_classes).to(device)\n",
    "    \n",
    "    optimizer = torch.optim.Adam(model.parameters(), lr=learning_rate) # adam optimizer\n",
    "    # algorithms/methods to change attributes of neural network such as weights and learning rate to reduce losses\n",
    "\n",
    "    loss_function = torch.nn.MSELoss() # mean-squared error of regression\n",
    "    # loss function measures how bad model performs: high loss -> low accuracy\n",
    "\n",
    "    for epoch in range(num_epochs + 1):\n",
    "        outputs = model.forward(X_train_tensors.to(device)) # forward pass\n",
    "        optimizer.zero_grad() # calculating gradient, manually setting to 0\n",
    "        loss = loss_function(outputs, y_train_tensors.to(device)) # obtaining loss\n",
    "        loss.backward() # calculating loss of loss function\n",
    "        optimizer.step() # improving from loss, i.e. backprop\n",
    "        if best_config is not None:\n",
    "            if epoch % 1000 == 0:\n",
    "                print(f'Epoch: {epoch}, Loss: {loss.item():.4f}')\n",
    "    \n",
    "    # saving model state\n",
    "    if save_model_state:\n",
    "        torch.save(model.state_dict(), '1-model-state.pth')\n",
    "\n",
    "    # loading model state\n",
    "    # model = LSTM_model(*args, **kwargs)\n",
    "    # model.load_state_dict(torch.load(PATH))\n",
    "    # model.eval()\n",
    "    \n",
    "    # predicting response from model\n",
    "    y_hat = model(X_val_tensors.to(device)) # forward pass\n",
    "    y_hat = y_hat.data.detach().cpu().numpy() # numpy conversion\n",
    "    y_hat = scaler.inverse_transform(y_hat) # inverse transformation\n",
    "\n",
    "    if best_config is None:\n",
    "        mse = calc_mse(y_true, y_hat)\n",
    "        train.report({'mse': mse})\n",
    "    else:\n",
    "        return y_hat"
   ]
  },
  {
   "cell_type": "code",
   "execution_count": 31,
   "metadata": {},
   "outputs": [
    {
     "name": "stderr",
     "output_type": "stream",
     "text": [
      "2023-10-12 22:05:36,696\tINFO worker.py:1642 -- Started a local Ray instance.\n"
     ]
    },
    {
     "data": {
      "application/vnd.jupyter.widget-view+json": {
       "model_id": "3f1fb6c7241847a59eef91850451a215",
       "version_major": 2,
       "version_minor": 0
      },
      "text/html": [
       "<div class=\"lm-Widget p-Widget lm-Panel p-Panel jp-Cell-outputWrapper\">\n",
       "    <div style=\"margin-left: 50px;display: flex;flex-direction: row;align-items: center\">\n",
       "        <div class=\"jp-RenderedHTMLCommon\" style=\"display: flex; flex-direction: row;\">\n",
       "  <svg viewBox=\"0 0 567 224\" fill=\"none\" xmlns=\"http://www.w3.org/2000/svg\" style=\"height: 3em;\">\n",
       "    <g clip-path=\"url(#clip0_4338_178347)\">\n",
       "        <path d=\"M341.29 165.561H355.29L330.13 129.051C345.63 123.991 354.21 112.051 354.21 94.2307C354.21 71.3707 338.72 58.1807 311.88 58.1807H271V165.561H283.27V131.661H311.8C314.25 131.661 316.71 131.501 319.01 131.351L341.25 165.561H341.29ZM283.29 119.851V70.0007H311.82C331.3 70.0007 342.34 78.2907 342.34 94.5507C342.34 111.271 331.34 119.861 311.82 119.861L283.29 119.851ZM451.4 138.411L463.4 165.561H476.74L428.74 58.1807H416L367.83 165.561H380.83L392.83 138.411H451.4ZM446.19 126.601H398L422 72.1407L446.24 126.601H446.19ZM526.11 128.741L566.91 58.1807H554.35L519.99 114.181L485.17 58.1807H472.44L514.01 129.181V165.541H526.13V128.741H526.11Z\" fill=\"var(--jp-ui-font-color0)\"/>\n",
       "        <path d=\"M82.35 104.44C84.0187 97.8827 87.8248 92.0678 93.1671 87.9146C98.5094 83.7614 105.083 81.5067 111.85 81.5067C118.617 81.5067 125.191 83.7614 130.533 87.9146C135.875 92.0678 139.681 97.8827 141.35 104.44H163.75C164.476 101.562 165.622 98.8057 167.15 96.2605L127.45 56.5605C121.071 60.3522 113.526 61.6823 106.235 60.3005C98.9443 58.9187 92.4094 54.9203 87.8602 49.0574C83.3109 43.1946 81.0609 35.8714 81.5332 28.4656C82.0056 21.0599 85.1679 14.0819 90.4252 8.8446C95.6824 3.60726 102.672 0.471508 110.08 0.0272655C117.487 -0.416977 124.802 1.86091 130.647 6.4324C136.493 11.0039 140.467 17.5539 141.821 24.8501C143.175 32.1463 141.816 39.6859 138 46.0505L177.69 85.7505C182.31 82.9877 187.58 81.4995 192.962 81.4375C198.345 81.3755 203.648 82.742 208.33 85.3976C213.012 88.0532 216.907 91.9029 219.616 96.5544C222.326 101.206 223.753 106.492 223.753 111.875C223.753 117.258 222.326 122.545 219.616 127.197C216.907 131.848 213.012 135.698 208.33 138.353C203.648 141.009 198.345 142.375 192.962 142.313C187.58 142.251 182.31 140.763 177.69 138L138 177.7C141.808 184.071 143.155 191.614 141.79 198.91C140.424 206.205 136.44 212.75 130.585 217.313C124.731 221.875 117.412 224.141 110.004 223.683C102.596 223.226 95.6103 220.077 90.3621 214.828C85.1139 209.58 81.9647 202.595 81.5072 195.187C81.0497 187.779 83.3154 180.459 87.878 174.605C92.4405 168.751 98.9853 164.766 106.281 163.401C113.576 162.035 121.119 163.383 127.49 167.19L167.19 127.49C165.664 124.941 164.518 122.182 163.79 119.3H141.39C139.721 125.858 135.915 131.673 130.573 135.826C125.231 139.98 118.657 142.234 111.89 142.234C105.123 142.234 98.5494 139.98 93.2071 135.826C87.8648 131.673 84.0587 125.858 82.39 119.3H60C58.1878 126.495 53.8086 132.78 47.6863 136.971C41.5641 141.163 34.1211 142.972 26.7579 142.059C19.3947 141.146 12.6191 137.574 7.70605 132.014C2.79302 126.454 0.0813599 119.29 0.0813599 111.87C0.0813599 104.451 2.79302 97.2871 7.70605 91.7272C12.6191 86.1673 19.3947 82.5947 26.7579 81.6817C34.1211 80.7686 41.5641 82.5781 47.6863 86.7696C53.8086 90.9611 58.1878 97.2456 60 104.44H82.35ZM100.86 204.32C103.407 206.868 106.759 208.453 110.345 208.806C113.93 209.159 117.527 208.258 120.522 206.256C123.517 204.254 125.725 201.276 126.771 197.828C127.816 194.38 127.633 190.677 126.253 187.349C124.874 184.021 122.383 181.274 119.205 179.577C116.027 177.88 112.359 177.337 108.826 178.042C105.293 178.746 102.113 180.654 99.8291 183.44C97.5451 186.226 96.2979 189.718 96.3 193.32C96.2985 195.364 96.7006 197.388 97.4831 199.275C98.2656 201.163 99.4132 202.877 100.86 204.32ZM204.32 122.88C206.868 120.333 208.453 116.981 208.806 113.396C209.159 109.811 208.258 106.214 206.256 103.219C204.254 100.223 201.275 98.0151 197.827 96.97C194.38 95.9249 190.676 96.1077 187.348 97.4873C184.02 98.8669 181.274 101.358 179.577 104.536C177.879 107.714 177.337 111.382 178.041 114.915C178.746 118.448 180.653 121.627 183.439 123.911C186.226 126.195 189.717 127.443 193.32 127.44C195.364 127.443 197.388 127.042 199.275 126.259C201.163 125.476 202.878 124.328 204.32 122.88ZM122.88 19.4205C120.333 16.8729 116.981 15.2876 113.395 14.9347C109.81 14.5817 106.213 15.483 103.218 17.4849C100.223 19.4868 98.0146 22.4654 96.9696 25.9131C95.9245 29.3608 96.1073 33.0642 97.4869 36.3922C98.8665 39.7202 101.358 42.4668 104.535 44.1639C107.713 45.861 111.381 46.4036 114.914 45.6992C118.447 44.9949 121.627 43.0871 123.911 40.301C126.195 37.515 127.442 34.0231 127.44 30.4205C127.44 28.3772 127.038 26.3539 126.255 24.4664C125.473 22.5788 124.326 20.8642 122.88 19.4205ZM19.42 100.86C16.8725 103.408 15.2872 106.76 14.9342 110.345C14.5813 113.93 15.4826 117.527 17.4844 120.522C19.4863 123.518 22.4649 125.726 25.9127 126.771C29.3604 127.816 33.0638 127.633 36.3918 126.254C39.7198 124.874 42.4664 122.383 44.1635 119.205C45.8606 116.027 46.4032 112.359 45.6988 108.826C44.9944 105.293 43.0866 102.114 40.3006 99.8296C37.5145 97.5455 34.0227 96.2983 30.42 96.3005C26.2938 96.3018 22.337 97.9421 19.42 100.86ZM100.86 100.86C98.3125 103.408 96.7272 106.76 96.3742 110.345C96.0213 113.93 96.9226 117.527 98.9244 120.522C100.926 123.518 103.905 125.726 107.353 126.771C110.8 127.816 114.504 127.633 117.832 126.254C121.16 124.874 123.906 122.383 125.604 119.205C127.301 116.027 127.843 112.359 127.139 108.826C126.434 105.293 124.527 102.114 121.741 99.8296C118.955 97.5455 115.463 96.2983 111.86 96.3005C109.817 96.299 107.793 96.701 105.905 97.4835C104.018 98.2661 102.303 99.4136 100.86 100.86Z\" fill=\"#00AEEF\"/>\n",
       "    </g>\n",
       "    <defs>\n",
       "        <clipPath id=\"clip0_4338_178347\">\n",
       "            <rect width=\"566.93\" height=\"223.75\" fill=\"white\"/>\n",
       "        </clipPath>\n",
       "    </defs>\n",
       "  </svg>\n",
       "</div>\n",
       "\n",
       "        <table class=\"jp-RenderedHTMLCommon\" style=\"border-collapse: collapse;color: var(--jp-ui-font-color1);font-size: var(--jp-ui-font-size1);\">\n",
       "    <tr>\n",
       "        <td style=\"text-align: left\"><b>Python version:</b></td>\n",
       "        <td style=\"text-align: left\"><b>3.8.10</b></td>\n",
       "    </tr>\n",
       "    <tr>\n",
       "        <td style=\"text-align: left\"><b>Ray version:</b></td>\n",
       "        <td style=\"text-align: left\"><b>2.7.1</b></td>\n",
       "    </tr>\n",
       "    \n",
       "</table>\n",
       "\n",
       "    </div>\n",
       "</div>\n"
      ],
      "text/plain": [
       "RayContext(dashboard_url='', python_version='3.8.10', ray_version='2.7.1', ray_commit='9f07c12615958c3af3760604f6dcacc4b3758a47', protocol_version=None)"
      ]
     },
     "execution_count": 31,
     "metadata": {},
     "output_type": "execute_result"
    }
   ],
   "source": [
    "# starting ray runtime\n",
    "ray.init()"
   ]
  },
  {
   "cell_type": "code",
   "execution_count": 32,
   "metadata": {},
   "outputs": [
    {
     "data": {
      "text/plain": [
       "{'CPU': 8.0,\n",
       " 'node:127.0.0.1': 1.0,\n",
       " 'memory': 12241394075.0,\n",
       " 'object_store_memory': 6120697036.0,\n",
       " 'node:__internal_head__': 1.0}"
      ]
     },
     "execution_count": 32,
     "metadata": {},
     "output_type": "execute_result"
    }
   ],
   "source": [
    "# checking available resources\n",
    "ray.cluster_resources()"
   ]
  },
  {
   "cell_type": "code",
   "execution_count": 33,
   "metadata": {},
   "outputs": [
    {
     "name": "stderr",
     "output_type": "stream",
     "text": [
      "2023-10-12 22:05:39,571\tINFO tune.py:645 -- [output] This uses the legacy output and progress reporter, as Jupyter notebooks are not supported by the new engine, yet. For more information, please see https://github.com/ray-project/ray/issues/36949\n"
     ]
    },
    {
     "data": {
      "text/html": [],
      "text/plain": [
       "<IPython.core.display.HTML object>"
      ]
     },
     "metadata": {},
     "output_type": "display_data"
    },
    {
     "data": {
      "text/html": [
       "<div class=\"trialProgress\">\n",
       "  <h3>Trial Progress</h3>\n",
       "  <table>\n",
       "<thead>\n",
       "<tr><th>Trial name                </th><th style=\"text-align: right;\">      mse</th></tr>\n",
       "</thead>\n",
       "<tbody>\n",
       "<tr><td>model_fit_eval_b717b_00000</td><td style=\"text-align: right;\">765.534  </td></tr>\n",
       "<tr><td>model_fit_eval_b717b_00001</td><td style=\"text-align: right;\">132.067  </td></tr>\n",
       "<tr><td>model_fit_eval_b717b_00002</td><td style=\"text-align: right;\"> 39.5922 </td></tr>\n",
       "<tr><td>model_fit_eval_b717b_00003</td><td style=\"text-align: right;\">131.627  </td></tr>\n",
       "<tr><td>model_fit_eval_b717b_00004</td><td style=\"text-align: right;\">260.171  </td></tr>\n",
       "<tr><td>model_fit_eval_b717b_00005</td><td style=\"text-align: right;\"> 39.7358 </td></tr>\n",
       "<tr><td>model_fit_eval_b717b_00006</td><td style=\"text-align: right;\"> 61.9557 </td></tr>\n",
       "<tr><td>model_fit_eval_b717b_00007</td><td style=\"text-align: right;\"> 47.0067 </td></tr>\n",
       "<tr><td>model_fit_eval_b717b_00008</td><td style=\"text-align: right;\"> 23.1858 </td></tr>\n",
       "<tr><td>model_fit_eval_b717b_00009</td><td style=\"text-align: right;\"> 95.6268 </td></tr>\n",
       "<tr><td>model_fit_eval_b717b_00010</td><td style=\"text-align: right;\"> 82.5402 </td></tr>\n",
       "<tr><td>model_fit_eval_b717b_00011</td><td style=\"text-align: right;\"> 34.0684 </td></tr>\n",
       "<tr><td>model_fit_eval_b717b_00012</td><td style=\"text-align: right;\">208.515  </td></tr>\n",
       "<tr><td>model_fit_eval_b717b_00013</td><td style=\"text-align: right;\"> 51.8616 </td></tr>\n",
       "<tr><td>model_fit_eval_b717b_00014</td><td style=\"text-align: right;\"> 44.5685 </td></tr>\n",
       "<tr><td>model_fit_eval_b717b_00015</td><td style=\"text-align: right;\"> 12.9516 </td></tr>\n",
       "<tr><td>model_fit_eval_b717b_00016</td><td style=\"text-align: right;\"> 36.6214 </td></tr>\n",
       "<tr><td>model_fit_eval_b717b_00017</td><td style=\"text-align: right;\"> 31.1859 </td></tr>\n",
       "<tr><td>model_fit_eval_b717b_00018</td><td style=\"text-align: right;\"> 67.3056 </td></tr>\n",
       "<tr><td>model_fit_eval_b717b_00019</td><td style=\"text-align: right;\"> 35.6275 </td></tr>\n",
       "<tr><td>model_fit_eval_b717b_00020</td><td style=\"text-align: right;\"> 32.1743 </td></tr>\n",
       "<tr><td>model_fit_eval_b717b_00021</td><td style=\"text-align: right;\"> 31.5688 </td></tr>\n",
       "<tr><td>model_fit_eval_b717b_00022</td><td style=\"text-align: right;\">  4.24114</td></tr>\n",
       "<tr><td>model_fit_eval_b717b_00023</td><td style=\"text-align: right;\">  4.88352</td></tr>\n",
       "<tr><td>model_fit_eval_b717b_00024</td><td style=\"text-align: right;\"> 10.0592 </td></tr>\n",
       "<tr><td>model_fit_eval_b717b_00025</td><td style=\"text-align: right;\">  2.66546</td></tr>\n",
       "<tr><td>model_fit_eval_b717b_00026</td><td style=\"text-align: right;\">  2.36867</td></tr>\n",
       "<tr><td>model_fit_eval_b717b_00027</td><td style=\"text-align: right;\">231.828  </td></tr>\n",
       "<tr><td>model_fit_eval_b717b_00028</td><td style=\"text-align: right;\">356.77   </td></tr>\n",
       "<tr><td>model_fit_eval_b717b_00029</td><td style=\"text-align: right;\">132.262  </td></tr>\n",
       "<tr><td>model_fit_eval_b717b_00030</td><td style=\"text-align: right;\"> 81.7061 </td></tr>\n",
       "<tr><td>model_fit_eval_b717b_00031</td><td style=\"text-align: right;\">177.768  </td></tr>\n",
       "<tr><td>model_fit_eval_b717b_00032</td><td style=\"text-align: right;\"> 87.8707 </td></tr>\n",
       "<tr><td>model_fit_eval_b717b_00033</td><td style=\"text-align: right;\">191.787  </td></tr>\n",
       "<tr><td>model_fit_eval_b717b_00034</td><td style=\"text-align: right;\">127.231  </td></tr>\n",
       "<tr><td>model_fit_eval_b717b_00035</td><td style=\"text-align: right;\">  5.00177</td></tr>\n",
       "<tr><td>model_fit_eval_b717b_00036</td><td style=\"text-align: right;\">111.235  </td></tr>\n",
       "<tr><td>model_fit_eval_b717b_00037</td><td style=\"text-align: right;\">135.564  </td></tr>\n",
       "<tr><td>model_fit_eval_b717b_00038</td><td style=\"text-align: right;\">102.117  </td></tr>\n",
       "<tr><td>model_fit_eval_b717b_00039</td><td style=\"text-align: right;\"> 80.8571 </td></tr>\n",
       "<tr><td>model_fit_eval_b717b_00040</td><td style=\"text-align: right;\">100.968  </td></tr>\n",
       "<tr><td>model_fit_eval_b717b_00041</td><td style=\"text-align: right;\">  1.8925 </td></tr>\n",
       "<tr><td>model_fit_eval_b717b_00042</td><td style=\"text-align: right;\"> 72.8089 </td></tr>\n",
       "<tr><td>model_fit_eval_b717b_00043</td><td style=\"text-align: right;\"> 61.0573 </td></tr>\n",
       "<tr><td>model_fit_eval_b717b_00044</td><td style=\"text-align: right;\"> 11.0121 </td></tr>\n",
       "<tr><td>model_fit_eval_b717b_00045</td><td style=\"text-align: right;\">107.237  </td></tr>\n",
       "<tr><td>model_fit_eval_b717b_00046</td><td style=\"text-align: right;\"> 36.0125 </td></tr>\n",
       "<tr><td>model_fit_eval_b717b_00047</td><td style=\"text-align: right;\">  8.16477</td></tr>\n",
       "<tr><td>model_fit_eval_b717b_00048</td><td style=\"text-align: right;\"> 53.6462 </td></tr>\n",
       "<tr><td>model_fit_eval_b717b_00049</td><td style=\"text-align: right;\"> 33.0065 </td></tr>\n",
       "<tr><td>model_fit_eval_b717b_00050</td><td style=\"text-align: right;\">  5.72617</td></tr>\n",
       "<tr><td>model_fit_eval_b717b_00051</td><td style=\"text-align: right;\"> 28.6924 </td></tr>\n",
       "<tr><td>model_fit_eval_b717b_00052</td><td style=\"text-align: right;\"> 12.276  </td></tr>\n",
       "<tr><td>model_fit_eval_b717b_00053</td><td style=\"text-align: right;\">  5.16753</td></tr>\n",
       "<tr><td>model_fit_eval_b717b_00054</td><td style=\"text-align: right;\">642.496  </td></tr>\n",
       "<tr><td>model_fit_eval_b717b_00055</td><td style=\"text-align: right;\">144.542  </td></tr>\n",
       "<tr><td>model_fit_eval_b717b_00056</td><td style=\"text-align: right;\">261.76   </td></tr>\n",
       "<tr><td>model_fit_eval_b717b_00057</td><td style=\"text-align: right;\">269.989  </td></tr>\n",
       "<tr><td>model_fit_eval_b717b_00058</td><td style=\"text-align: right;\">190.519  </td></tr>\n",
       "<tr><td>model_fit_eval_b717b_00059</td><td style=\"text-align: right;\"> 81.4186 </td></tr>\n",
       "<tr><td>model_fit_eval_b717b_00060</td><td style=\"text-align: right;\">155.122  </td></tr>\n",
       "<tr><td>model_fit_eval_b717b_00061</td><td style=\"text-align: right;\"> 93.5691 </td></tr>\n",
       "<tr><td>model_fit_eval_b717b_00062</td><td style=\"text-align: right;\"> 28.1071 </td></tr>\n",
       "<tr><td>model_fit_eval_b717b_00063</td><td style=\"text-align: right;\">119.594  </td></tr>\n",
       "<tr><td>model_fit_eval_b717b_00064</td><td style=\"text-align: right;\">151.535  </td></tr>\n",
       "<tr><td>model_fit_eval_b717b_00065</td><td style=\"text-align: right;\"> 75.4533 </td></tr>\n",
       "<tr><td>model_fit_eval_b717b_00066</td><td style=\"text-align: right;\">199.077  </td></tr>\n",
       "<tr><td>model_fit_eval_b717b_00067</td><td style=\"text-align: right;\"> 38.5593 </td></tr>\n",
       "<tr><td>model_fit_eval_b717b_00068</td><td style=\"text-align: right;\"> 48.9044 </td></tr>\n",
       "<tr><td>model_fit_eval_b717b_00069</td><td style=\"text-align: right;\"> 75.0056 </td></tr>\n",
       "<tr><td>model_fit_eval_b717b_00070</td><td style=\"text-align: right;\"> 57.8621 </td></tr>\n",
       "<tr><td>model_fit_eval_b717b_00071</td><td style=\"text-align: right;\"> 12.8488 </td></tr>\n",
       "<tr><td>model_fit_eval_b717b_00072</td><td style=\"text-align: right;\"> 75.9272 </td></tr>\n",
       "<tr><td>model_fit_eval_b717b_00073</td><td style=\"text-align: right;\"> 83.5461 </td></tr>\n",
       "<tr><td>model_fit_eval_b717b_00074</td><td style=\"text-align: right;\"> 22.1341 </td></tr>\n",
       "<tr><td>model_fit_eval_b717b_00075</td><td style=\"text-align: right;\"> 71.7117 </td></tr>\n",
       "<tr><td>model_fit_eval_b717b_00076</td><td style=\"text-align: right;\"> 43.9953 </td></tr>\n",
       "<tr><td>model_fit_eval_b717b_00077</td><td style=\"text-align: right;\"> 53.3762 </td></tr>\n",
       "<tr><td>model_fit_eval_b717b_00078</td><td style=\"text-align: right;\"> 25.38   </td></tr>\n",
       "<tr><td>model_fit_eval_b717b_00079</td><td style=\"text-align: right;\"> 34.0778 </td></tr>\n",
       "<tr><td>model_fit_eval_b717b_00080</td><td style=\"text-align: right;\">  7.39084</td></tr>\n",
       "</tbody>\n",
       "</table>\n",
       "</div>\n",
       "<style>\n",
       ".trialProgress {\n",
       "  display: flex;\n",
       "  flex-direction: column;\n",
       "  color: var(--jp-ui-font-color1);\n",
       "}\n",
       ".trialProgress h3 {\n",
       "  font-weight: bold;\n",
       "}\n",
       ".trialProgress td {\n",
       "  white-space: nowrap;\n",
       "}\n",
       "</style>\n"
      ],
      "text/plain": [
       "<IPython.core.display.HTML object>"
      ]
     },
     "metadata": {},
     "output_type": "display_data"
    },
    {
     "name": "stderr",
     "output_type": "stream",
     "text": [
      "2023-10-12 22:08:15,877\tWARNING util.py:315 -- The `on_step_begin` operation took 17.319 s, which may be a performance bottleneck.\n",
      "2023-10-12 22:08:46,454\tWARNING util.py:315 -- The `on_step_begin` operation took 10.511 s, which may be a performance bottleneck.\n",
      "2023-10-12 22:09:10,354\tWARNING util.py:315 -- The `on_step_begin` operation took 13.769 s, which may be a performance bottleneck.\n",
      "2023-10-12 22:09:40,078\tWARNING util.py:315 -- The `on_step_begin` operation took 19.636 s, which may be a performance bottleneck.\n",
      "2023-10-12 22:10:06,440\tWARNING util.py:315 -- The `on_step_begin` operation took 16.179 s, which may be a performance bottleneck.\n",
      "2023-10-12 22:10:20,377\tWARNING util.py:315 -- The `on_step_begin` operation took 3.779 s, which may be a performance bottleneck.\n",
      "2023-10-12 22:10:33,347\tWARNING util.py:315 -- The `on_step_begin` operation took 2.872 s, which may be a performance bottleneck.\n",
      "2023-10-12 22:10:50,300\tWARNING util.py:315 -- The `on_step_begin` operation took 6.925 s, which may be a performance bottleneck.\n",
      "2023-10-12 22:11:11,857\tWARNING util.py:315 -- The `on_step_begin` operation took 11.540 s, which may be a performance bottleneck.\n",
      "2023-10-12 22:11:52,238\tWARNING util.py:315 -- The `on_step_begin` operation took 20.264 s, which may be a performance bottleneck.\n",
      "2023-10-12 22:12:40,862\tWARNING util.py:315 -- The `on_step_begin` operation took 28.533 s, which may be a performance bottleneck.\n",
      "2023-10-12 22:13:06,299\tWARNING util.py:315 -- The `on_step_begin` operation took 15.369 s, which may be a performance bottleneck.\n",
      "2023-10-12 22:13:55,673\tWARNING util.py:315 -- The `on_step_begin` operation took 29.335 s, which may be a performance bottleneck.\n",
      "2023-10-12 22:14:33,934\tWARNING util.py:315 -- The `on_step_begin` operation took 28.213 s, which may be a performance bottleneck.\n",
      "2023-10-12 22:14:51,524\tWARNING util.py:315 -- The `on_step_begin` operation took 7.573 s, which may be a performance bottleneck.\n",
      "2023-10-12 22:15:41,974\tWARNING util.py:315 -- The `on_step_begin` operation took 19.983 s, which may be a performance bottleneck.\n",
      "2023-10-12 22:16:10,073\tWARNING util.py:315 -- The `on_step_begin` operation took 18.020 s, which may be a performance bottleneck.\n",
      "2023-10-12 22:16:41,596\tWARNING util.py:315 -- The `on_step_begin` operation took 11.291 s, which may be a performance bottleneck.\n",
      "2023-10-12 22:18:01,206\tWARNING util.py:315 -- The `on_step_begin` operation took 19.093 s, which may be a performance bottleneck.\n",
      "2023-10-12 22:18:21,614\tWARNING util.py:315 -- The `on_step_begin` operation took 10.220 s, which may be a performance bottleneck.\n",
      "2023-10-12 22:18:38,667\tWARNING util.py:315 -- The `on_step_begin` operation took 6.955 s, which may be a performance bottleneck.\n",
      "2023-10-12 22:19:26,992\tWARNING util.py:315 -- The `on_step_begin` operation took 28.211 s, which may be a performance bottleneck.\n",
      "2023-10-12 22:19:45,754\tWARNING util.py:315 -- The `on_step_begin` operation took 8.757 s, which may be a performance bottleneck.\n",
      "2023-10-12 22:20:54,862\tWARNING util.py:315 -- The `on_step_begin` operation took 18.698 s, which may be a performance bottleneck.\n",
      "2023-10-12 22:21:42,367\tWARNING util.py:315 -- The `on_step_begin` operation took 37.454 s, which may be a performance bottleneck.\n",
      "2023-10-12 22:22:31,051\tWARNING util.py:315 -- The `on_step_begin` operation took 38.614 s, which may be a performance bottleneck.\n",
      "2023-10-12 22:23:18,546\tWARNING util.py:315 -- The `on_step_begin` operation took 37.402 s, which may be a performance bottleneck.\n",
      "2023-10-12 22:23:56,616\tWARNING util.py:315 -- The `on_step_begin` operation took 28.055 s, which may be a performance bottleneck.\n",
      "2023-10-12 22:24:45,244\tWARNING util.py:315 -- The `on_step_begin` operation took 28.553 s, which may be a performance bottleneck.\n",
      "2023-10-12 22:25:58,869\tWARNING util.py:315 -- The `on_step_begin` operation took 63.491 s, which may be a performance bottleneck.\n",
      "2023-10-12 22:26:43,172\tINFO tune.py:1143 -- Total run time: 1263.60 seconds (1263.48 seconds for the tuning loop).\n"
     ]
    }
   ],
   "source": [
    "# using grid search to get best hyperparameters\n",
    "analysis = tune.run(\n",
    "    model_fit_eval, \n",
    "    config={'hidden_size': tune.grid_search([2, 3, 5]), \n",
    "            'learning_rate': tune.grid_search([0.0005, 0.001, 0.002]), \n",
    "            'num_epochs': tune.grid_search([2000, 4000, 8000]), \n",
    "            'num_layers': tune.grid_search([1, 2, 4])}, \n",
    "    resources_per_trial={'cpu': 2, 'gpu': 0}) # leveraging all resources"
   ]
  },
  {
   "cell_type": "code",
   "execution_count": 34,
   "metadata": {},
   "outputs": [],
   "source": [
    "# # visualizing hyperparameter tuning results\n",
    "# %load_ext tensorboard\n",
    "# %tensorboard --logdir ~/ray_results"
   ]
  },
  {
   "cell_type": "code",
   "execution_count": 35,
   "metadata": {},
   "outputs": [
    {
     "name": "stdout",
     "output_type": "stream",
     "text": [
      "Min MSE: 1.8924968879543183\n",
      "Best trial config: {'hidden_size': 5, 'learning_rate': 0.001, 'num_epochs': 4000, 'num_layers': 2}\n"
     ]
    }
   ],
   "source": [
    "# best hyperparameters\n",
    "best_trial = analysis.get_best_trial(metric='mse', mode='min', scope='all')\n",
    "min_mse = best_trial.metric_analysis['mse']['avg']\n",
    "print(f'Min MSE: {min_mse}')\n",
    "best_trial_config = best_trial.config\n",
    "print(f'Best trial config: {best_trial_config}')"
   ]
  },
  {
   "cell_type": "code",
   "execution_count": 36,
   "metadata": {},
   "outputs": [
    {
     "name": "stdout",
     "output_type": "stream",
     "text": [
      "Epoch: 0, Loss: 0.0805\n",
      "Epoch: 1000, Loss: 0.0001\n",
      "Epoch: 2000, Loss: 0.0001\n",
      "Epoch: 3000, Loss: 0.0000\n",
      "Epoch: 4000, Loss: 0.0000\n",
      "Epoch: 5000, Loss: 0.0000\n",
      "Epoch: 6000, Loss: 0.0000\n",
      "Epoch: 7000, Loss: 0.0000\n",
      "Epoch: 8000, Loss: 0.0000\n",
      "Epoch: 9000, Loss: 0.0000\n",
      "Epoch: 10000, Loss: 0.0000\n"
     ]
    }
   ],
   "source": [
    "# training model using best hyperparameters\n",
    "best_trial_config['num_epochs'] = 10000 # increasing num of epochs\n",
    "y_hat = model_fit_eval(best_config=best_trial_config, save_model_state=True)"
   ]
  },
  {
   "cell_type": "code",
   "execution_count": 37,
   "metadata": {},
   "outputs": [],
   "source": [
    "# shutting down ray runtime\n",
    "ray.shutdown()"
   ]
  },
  {
   "cell_type": "code",
   "execution_count": 38,
   "metadata": {},
   "outputs": [],
   "source": [
    "# function for plotting actual and predicted Adj Close price\n",
    "def plt_graph(period, val_line=False):\n",
    "    # plotting actual Adj Close price\n",
    "    plt.plot(tsla_price_df.index, y_true, label='Actual Price')\n",
    "    # plotting predicted Adj Close price\n",
    "    plt.plot(tsla_price_df.index, y_hat, label='Pred Price')\n",
    "    if val_line:\n",
    "        plt.axvline(x=pd.to_datetime(start_time_val), c='r', linestyle='--')\n",
    "    plt.xlabel('Date')\n",
    "    plt.ylabel('Adj Close Price')\n",
    "    plt.title(f'{period} Period')\n",
    "    plt.legend()\n",
    "    plt.show()"
   ]
  },
  {
   "cell_type": "code",
   "execution_count": 39,
   "metadata": {},
   "outputs": [
    {
     "data": {
      "image/png": "[encoded data removed]",
      "text/plain": [
       "<Figure size 800x400 with 1 Axes>"
      ]
     },
     "metadata": {},
     "output_type": "display_data"
    }
   ],
   "source": [
    "# plotting all period\n",
    "period = 'All'\n",
    "plt_graph(period, True)"
   ]
  },
  {
   "cell_type": "code",
   "execution_count": 40,
   "metadata": {},
   "outputs": [
    {
     "name": "stdout",
     "output_type": "stream",
     "text": [
      "MSE (Validation): 14.779055482534218\n"
     ]
    }
   ],
   "source": [
    "period = 'Validation'\n",
    "mse = calc_mse(y_true[n_split:], y_hat[n_split:])\n",
    "print(f'MSE ({period}): {mse}')\n",
    "# 14.8, 13, 1.47"
   ]
  }
 ],
 "metadata": {
  "kernelspec": {
   "display_name": "myenv",
   "language": "python",
   "name": "python3"
  },
  "language_info": {
   "codemirror_mode": {
    "name": "ipython",
    "version": 3
   },
   "file_extension": ".py",
   "mimetype": "text/x-python",
   "name": "python",
   "nbconvert_exporter": "python",
   "pygments_lexer": "ipython3",
   "version": "3.8.10"
  }
 },
 "nbformat": 4,
 "nbformat_minor": 2
}
