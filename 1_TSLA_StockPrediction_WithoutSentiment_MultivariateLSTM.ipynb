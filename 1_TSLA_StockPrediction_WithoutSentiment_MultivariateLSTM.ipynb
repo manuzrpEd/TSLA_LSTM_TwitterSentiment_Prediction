{
 "cells": [
  {
   "cell_type": "code",
   "execution_count": 1,
   "metadata": {},
   "outputs": [],
   "source": [
    "import datetime\n",
    "import numpy\n",
    "import ray\n",
    "import torch\n",
    "#\n",
    "import matplotlib.pyplot as plt\n",
    "plt.rcParams['figure.figsize'] = (8,4)\n",
    "plt.rcParams['axes.grid'] = True\n",
    "plt.rcParams.update({'font.size': 12})\n",
    "import pandas as pd\n",
    "import torch.nn as nn\n",
    "import yfinance as yf\n",
    "#\n",
    "from sklearn.preprocessing import MinMaxScaler\n",
    "from ray import train,tune\n",
    "from torch.autograd import Variable"
   ]
  },
  {
   "cell_type": "code",
   "execution_count": 2,
   "metadata": {},
   "outputs": [
    {
     "name": "stdout",
     "output_type": "stream",
     "text": [
      "[*********************100%%**********************]  1 of 1 completed\n"
     ]
    },
    {
     "data": {
      "text/html": [
       "<div>\n",
       "<style scoped>\n",
       "    .dataframe tbody tr th:only-of-type {\n",
       "        vertical-align: middle;\n",
       "    }\n",
       "\n",
       "    .dataframe tbody tr th {\n",
       "        vertical-align: top;\n",
       "    }\n",
       "\n",
       "    .dataframe thead th {\n",
       "        text-align: right;\n",
       "    }\n",
       "</style>\n",
       "<table border=\"1\" class=\"dataframe\">\n",
       "  <thead>\n",
       "    <tr style=\"text-align: right;\">\n",
       "      <th></th>\n",
       "      <th>Open</th>\n",
       "      <th>High</th>\n",
       "      <th>Low</th>\n",
       "      <th>Close</th>\n",
       "      <th>Adj Close</th>\n",
       "      <th>Volume</th>\n",
       "    </tr>\n",
       "    <tr>\n",
       "      <th>Date</th>\n",
       "      <th></th>\n",
       "      <th></th>\n",
       "      <th></th>\n",
       "      <th></th>\n",
       "      <th></th>\n",
       "      <th></th>\n",
       "    </tr>\n",
       "  </thead>\n",
       "  <tbody>\n",
       "    <tr>\n",
       "      <th>2020-01-02</th>\n",
       "      <td>28.299999</td>\n",
       "      <td>28.713333</td>\n",
       "      <td>28.114000</td>\n",
       "      <td>28.684000</td>\n",
       "      <td>28.684000</td>\n",
       "      <td>142981500</td>\n",
       "    </tr>\n",
       "    <tr>\n",
       "      <th>2020-01-03</th>\n",
       "      <td>29.366667</td>\n",
       "      <td>30.266666</td>\n",
       "      <td>29.128000</td>\n",
       "      <td>29.534000</td>\n",
       "      <td>29.534000</td>\n",
       "      <td>266677500</td>\n",
       "    </tr>\n",
       "    <tr>\n",
       "      <th>2020-01-06</th>\n",
       "      <td>29.364668</td>\n",
       "      <td>30.104000</td>\n",
       "      <td>29.333332</td>\n",
       "      <td>30.102667</td>\n",
       "      <td>30.102667</td>\n",
       "      <td>151995000</td>\n",
       "    </tr>\n",
       "    <tr>\n",
       "      <th>2020-01-07</th>\n",
       "      <td>30.760000</td>\n",
       "      <td>31.441999</td>\n",
       "      <td>30.224001</td>\n",
       "      <td>31.270666</td>\n",
       "      <td>31.270666</td>\n",
       "      <td>268231500</td>\n",
       "    </tr>\n",
       "    <tr>\n",
       "      <th>2020-01-08</th>\n",
       "      <td>31.580000</td>\n",
       "      <td>33.232666</td>\n",
       "      <td>31.215334</td>\n",
       "      <td>32.809334</td>\n",
       "      <td>32.809334</td>\n",
       "      <td>467164500</td>\n",
       "    </tr>\n",
       "    <tr>\n",
       "      <th>...</th>\n",
       "      <td>...</td>\n",
       "      <td>...</td>\n",
       "      <td>...</td>\n",
       "      <td>...</td>\n",
       "      <td>...</td>\n",
       "      <td>...</td>\n",
       "    </tr>\n",
       "    <tr>\n",
       "      <th>2020-12-23</th>\n",
       "      <td>210.733337</td>\n",
       "      <td>217.166672</td>\n",
       "      <td>207.523331</td>\n",
       "      <td>215.326660</td>\n",
       "      <td>215.326660</td>\n",
       "      <td>99519000</td>\n",
       "    </tr>\n",
       "    <tr>\n",
       "      <th>2020-12-24</th>\n",
       "      <td>214.330002</td>\n",
       "      <td>222.029999</td>\n",
       "      <td>213.666672</td>\n",
       "      <td>220.589996</td>\n",
       "      <td>220.589996</td>\n",
       "      <td>68596800</td>\n",
       "    </tr>\n",
       "    <tr>\n",
       "      <th>2020-12-28</th>\n",
       "      <td>224.836670</td>\n",
       "      <td>227.133331</td>\n",
       "      <td>220.266663</td>\n",
       "      <td>221.229996</td>\n",
       "      <td>221.229996</td>\n",
       "      <td>96835800</td>\n",
       "    </tr>\n",
       "    <tr>\n",
       "      <th>2020-12-29</th>\n",
       "      <td>220.333328</td>\n",
       "      <td>223.300003</td>\n",
       "      <td>218.333328</td>\n",
       "      <td>221.996674</td>\n",
       "      <td>221.996674</td>\n",
       "      <td>68732400</td>\n",
       "    </tr>\n",
       "    <tr>\n",
       "      <th>2020-12-30</th>\n",
       "      <td>224.000000</td>\n",
       "      <td>232.199997</td>\n",
       "      <td>222.786667</td>\n",
       "      <td>231.593338</td>\n",
       "      <td>231.593338</td>\n",
       "      <td>128538000</td>\n",
       "    </tr>\n",
       "  </tbody>\n",
       "</table>\n",
       "<p>252 rows × 6 columns</p>\n",
       "</div>"
      ],
      "text/plain": [
       "                  Open        High         Low       Close   Adj Close  \\\n",
       "Date                                                                     \n",
       "2020-01-02   28.299999   28.713333   28.114000   28.684000   28.684000   \n",
       "2020-01-03   29.366667   30.266666   29.128000   29.534000   29.534000   \n",
       "2020-01-06   29.364668   30.104000   29.333332   30.102667   30.102667   \n",
       "2020-01-07   30.760000   31.441999   30.224001   31.270666   31.270666   \n",
       "2020-01-08   31.580000   33.232666   31.215334   32.809334   32.809334   \n",
       "...                ...         ...         ...         ...         ...   \n",
       "2020-12-23  210.733337  217.166672  207.523331  215.326660  215.326660   \n",
       "2020-12-24  214.330002  222.029999  213.666672  220.589996  220.589996   \n",
       "2020-12-28  224.836670  227.133331  220.266663  221.229996  221.229996   \n",
       "2020-12-29  220.333328  223.300003  218.333328  221.996674  221.996674   \n",
       "2020-12-30  224.000000  232.199997  222.786667  231.593338  231.593338   \n",
       "\n",
       "               Volume  \n",
       "Date                   \n",
       "2020-01-02  142981500  \n",
       "2020-01-03  266677500  \n",
       "2020-01-06  151995000  \n",
       "2020-01-07  268231500  \n",
       "2020-01-08  467164500  \n",
       "...               ...  \n",
       "2020-12-23   99519000  \n",
       "2020-12-24   68596800  \n",
       "2020-12-28   96835800  \n",
       "2020-12-29   68732400  \n",
       "2020-12-30  128538000  \n",
       "\n",
       "[252 rows x 6 columns]"
      ]
     },
     "execution_count": 2,
     "metadata": {},
     "output_type": "execute_result"
    }
   ],
   "source": [
    "# load dataset\n",
    "start_time_all = datetime.datetime(2020, 1, 1).strftime('%Y-%m-%d') # 2020-01-01\n",
    "end_time_train = datetime.datetime(2020, 9, 30).strftime('%Y-%m-%d') # 2020-09-30\n",
    "start_time_val = datetime.datetime(2020, 10, 1).strftime('%Y-%m-%d') # 2020-10-01\n",
    "end_time_all = datetime.datetime(2020, 12, 31).strftime('%Y-%m-%d') # 2020-12-31\n",
    "\n",
    "# loading Tesla, Inc. (TSLA) stock price data from Yahoo Finance\n",
    "tsla_price_df = yf.download('TSLA', start=start_time_all, end=end_time_all)\n",
    "tsla_price_df.index = pd.to_datetime(tsla_price_df.index)\n",
    "tsla_price_df"
   ]
  },
  {
   "cell_type": "code",
   "execution_count": 3,
   "metadata": {},
   "outputs": [],
   "source": [
    "# features (High price, Low price, Open price, Close price, Volume)\n",
    "X = tsla_price_df.iloc[:, tsla_price_df.columns != 'Adj Close']\n",
    "# response (Adj Close price)\n",
    "y = tsla_price_df.loc[:, 'Adj Close']"
   ]
  },
  {
   "cell_type": "code",
   "execution_count": 4,
   "metadata": {},
   "outputs": [
    {
     "data": {
      "image/png": "[encoded data removed]",
      "text/plain": [
       "<Figure size 800x400 with 1 Axes>"
      ]
     },
     "metadata": {},
     "output_type": "display_data"
    }
   ],
   "source": [
    "# plotting TSLA Adj Close price from 2020-01-01 to 2020-12-31\n",
    "plt.plot(y)\n",
    "plt.xlabel('\\nDate')\n",
    "plt.ylabel('Adj Close Price\\n')\n",
    "plt.title('TSLA Adj Close Price')\n",
    "plt.show()"
   ]
  },
  {
   "cell_type": "code",
   "execution_count": 5,
   "metadata": {},
   "outputs": [
    {
     "name": "stdout",
     "output_type": "stream",
     "text": [
      "Training Set Shape  (189, 5) (189, 1)\n"
     ]
    }
   ],
   "source": [
    "# train/test splitting\n",
    "n_split = 189 # where to split training and validation datasets\n",
    "\n",
    "# normalizing datasets (this introduces lookahead bias, to be fixed)\n",
    "scaler = MinMaxScaler()\n",
    "X_norm = scaler.fit_transform(X)\n",
    "y_norm = scaler.fit_transform(y.values.reshape(1, -1).reshape(-1, 1))\n",
    "\n",
    "# training using Jan - Sep data\n",
    "# validating trained model using Oct - Dec data\n",
    "X_train = X_norm[:n_split, :]\n",
    "y_train = y_norm[:n_split, :]\n",
    "\n",
    "print('Training Set Shape ', X_train.shape, y_train.shape)"
   ]
  },
  {
   "cell_type": "code",
   "execution_count": 6,
   "metadata": {},
   "outputs": [
    {
     "name": "stdout",
     "output_type": "stream",
     "text": [
      "Training Set Shape    torch.Size([189, 1, 5]) torch.Size([189, 1])\n",
      "Validation Set Shape  torch.Size([252, 1, 5]) (252, 1)\n"
     ]
    }
   ],
   "source": [
    "# converting data to tensors\n",
    "X_train_tensors = Variable(torch.Tensor(X_train))\n",
    "y_train_tensors = Variable(torch.Tensor(y_train))\n",
    "\n",
    "X_val_tensors = Variable(torch.Tensor(X_norm))\n",
    "y_true = numpy.array(y).reshape(-1, 1)\n",
    "\n",
    "# reshaping X dataset\n",
    "X_train_tensors = torch.reshape(X_train_tensors, (X_train_tensors.shape[0], \n",
    "                                                  1, X_train_tensors.shape[1]))\n",
    "X_val_tensors = torch.reshape(X_val_tensors, (X_val_tensors.shape[0], \n",
    "                                              1, X_val_tensors.shape[1]))\n",
    "\n",
    "print('Training Set Shape   ', X_train_tensors.shape, y_train_tensors.shape)\n",
    "print('Validation Set Shape ', X_val_tensors.shape, y_true.shape)"
   ]
  },
  {
   "cell_type": "code",
   "execution_count": 7,
   "metadata": {},
   "outputs": [],
   "source": [
    "# LSTM\n",
    "# selecting gpu\n",
    "device = torch.device('cpu')"
   ]
  },
  {
   "cell_type": "code",
   "execution_count": 8,
   "metadata": {},
   "outputs": [],
   "source": [
    "class LSTM_model(nn.Module):\n",
    "    def __init__(self, input_size, hidden_size, num_layers, num_classes):\n",
    "        super(LSTM_model, self).__init__()\n",
    "        self.input_size = input_size # number of features\n",
    "        self.hidden_size = hidden_size # number of features in hidden state\n",
    "        self.num_layers = num_layers # number of stacked LSTM layers\n",
    "        self.num_classes = num_classes # number of output classes\n",
    "    \n",
    "        self.lstm = nn.LSTM(input_size=input_size, hidden_size=hidden_size, \n",
    "                            num_layers=num_layers, batch_first=True) # LSTM layer\n",
    "        self.fc = nn.Linear(hidden_size, num_classes) # fully connected last layer\n",
    "\n",
    "    def forward(self, x):\n",
    "        h0 = Variable(torch.zeros(self.num_layers, x.size(0), \n",
    "                                  self.hidden_size)).to(device) # hidden state\n",
    "        c0 = Variable(torch.zeros(self.num_layers, x.size(0), \n",
    "                                  self.hidden_size)).to(device) # internal state\n",
    "        # propagating input through LSTM\n",
    "        out, _ = self.lstm(x, (h0, c0)) # out: tensor of shape (seq_length, batch_size, hidden_size)\n",
    "        # decoding hidden state of last time step\n",
    "        out = self.fc(out[:, -1, :])\n",
    "        return out"
   ]
  },
  {
   "cell_type": "code",
   "execution_count": 9,
   "metadata": {},
   "outputs": [],
   "source": [
    "# function for calculating MSE (Mean Squared Error)\n",
    "def calc_mse(y_true, y_hat):\n",
    "    mse = float(sum((y_true - y_hat) * (y_true - y_hat)) / len(y_hat))\n",
    "    return mse"
   ]
  },
  {
   "cell_type": "code",
   "execution_count": 10,
   "metadata": {},
   "outputs": [],
   "source": [
    "# function for fitting and evaluating model using different hyperparameters\n",
    "def model_fit_eval(config=None, best_config=None, save_model_state=False):\n",
    "    if best_config is None:\n",
    "        hidden_size = config['hidden_size']\n",
    "        num_layers = config['num_layers']\n",
    "        learning_rate = config['learning_rate']\n",
    "        # learning rate controls how much to change model in response to estm error each time model weights are updated\n",
    "        num_epochs = config['num_epochs']\n",
    "    else:\n",
    "        hidden_size = best_config['hidden_size']\n",
    "        num_layers = best_config['num_layers']\n",
    "        learning_rate = best_config['learning_rate']\n",
    "        num_epochs = best_config['num_epochs']\n",
    "\n",
    "    input_size = 5\n",
    "    num_classes = 1\n",
    "    \n",
    "    model = LSTM_model(input_size, hidden_size, num_layers, num_classes).to(device)\n",
    "    \n",
    "    optimizer = torch.optim.Adam(model.parameters(), lr=learning_rate) # adam optimizer\n",
    "    # algorithms/methods to change attributes of neural network such as weights and learning rate to reduce losses\n",
    "\n",
    "    loss_function = torch.nn.MSELoss() # mean-squared error of regression\n",
    "    # loss function measures how bad model performs: high loss -> low accuracy\n",
    "\n",
    "    for epoch in range(num_epochs + 1):\n",
    "        outputs = model.forward(X_train_tensors.to(device)) # forward pass\n",
    "        optimizer.zero_grad() # calculating gradient, manually setting to 0\n",
    "        loss = loss_function(outputs, y_train_tensors.to(device)) # obtaining loss\n",
    "        loss.backward() # calculating loss of loss function\n",
    "        optimizer.step() # improving from loss, i.e. backprop\n",
    "        if best_config is not None:\n",
    "            if epoch % 1000 == 0:\n",
    "                print(f'Epoch: {epoch}, Loss: {loss.item():.4f}')\n",
    "    \n",
    "    # saving model state\n",
    "    if save_model_state:\n",
    "        torch.save(model.state_dict(), '1-model-state.pth')\n",
    "\n",
    "    # loading model state\n",
    "    # model = LSTM_model(*args, **kwargs)\n",
    "    # model.load_state_dict(torch.load(PATH))\n",
    "    # model.eval()\n",
    "    \n",
    "    # predicting response from model\n",
    "    y_hat = model(X_val_tensors.to(device)) # forward pass\n",
    "    y_hat = y_hat.data.detach().cpu().numpy() # numpy conversion\n",
    "    y_hat = scaler.inverse_transform(y_hat) # inverse transformation\n",
    "\n",
    "    if best_config is None:\n",
    "        mse = calc_mse(y_true, y_hat)\n",
    "        train.report({'mse': mse})\n",
    "    else:\n",
    "        return y_hat"
   ]
  },
  {
   "cell_type": "code",
   "execution_count": 11,
   "metadata": {},
   "outputs": [
    {
     "name": "stderr",
     "output_type": "stream",
     "text": [
      "2023-10-12 17:30:20,112\tINFO worker.py:1642 -- Started a local Ray instance.\n"
     ]
    },
    {
     "data": {
      "application/vnd.jupyter.widget-view+json": {
       "model_id": "db6f6b71b8f84103be6f0f3467ec48a2",
       "version_major": 2,
       "version_minor": 0
      },
      "text/html": [
       "<div class=\"lm-Widget p-Widget lm-Panel p-Panel jp-Cell-outputWrapper\">\n",
       "    <div style=\"margin-left: 50px;display: flex;flex-direction: row;align-items: center\">\n",
       "        <div class=\"jp-RenderedHTMLCommon\" style=\"display: flex; flex-direction: row;\">\n",
       "  <svg viewBox=\"0 0 567 224\" fill=\"none\" xmlns=\"http://www.w3.org/2000/svg\" style=\"height: 3em;\">\n",
       "    <g clip-path=\"url(#clip0_4338_178347)\">\n",
       "        <path d=\"M341.29 165.561H355.29L330.13 129.051C345.63 123.991 354.21 112.051 354.21 94.2307C354.21 71.3707 338.72 58.1807 311.88 58.1807H271V165.561H283.27V131.661H311.8C314.25 131.661 316.71 131.501 319.01 131.351L341.25 165.561H341.29ZM283.29 119.851V70.0007H311.82C331.3 70.0007 342.34 78.2907 342.34 94.5507C342.34 111.271 331.34 119.861 311.82 119.861L283.29 119.851ZM451.4 138.411L463.4 165.561H476.74L428.74 58.1807H416L367.83 165.561H380.83L392.83 138.411H451.4ZM446.19 126.601H398L422 72.1407L446.24 126.601H446.19ZM526.11 128.741L566.91 58.1807H554.35L519.99 114.181L485.17 58.1807H472.44L514.01 129.181V165.541H526.13V128.741H526.11Z\" fill=\"var(--jp-ui-font-color0)\"/>\n",
       "        <path d=\"M82.35 104.44C84.0187 97.8827 87.8248 92.0678 93.1671 87.9146C98.5094 83.7614 105.083 81.5067 111.85 81.5067C118.617 81.5067 125.191 83.7614 130.533 87.9146C135.875 92.0678 139.681 97.8827 141.35 104.44H163.75C164.476 101.562 165.622 98.8057 167.15 96.2605L127.45 56.5605C121.071 60.3522 113.526 61.6823 106.235 60.3005C98.9443 58.9187 92.4094 54.9203 87.8602 49.0574C83.3109 43.1946 81.0609 35.8714 81.5332 28.4656C82.0056 21.0599 85.1679 14.0819 90.4252 8.8446C95.6824 3.60726 102.672 0.471508 110.08 0.0272655C117.487 -0.416977 124.802 1.86091 130.647 6.4324C136.493 11.0039 140.467 17.5539 141.821 24.8501C143.175 32.1463 141.816 39.6859 138 46.0505L177.69 85.7505C182.31 82.9877 187.58 81.4995 192.962 81.4375C198.345 81.3755 203.648 82.742 208.33 85.3976C213.012 88.0532 216.907 91.9029 219.616 96.5544C222.326 101.206 223.753 106.492 223.753 111.875C223.753 117.258 222.326 122.545 219.616 127.197C216.907 131.848 213.012 135.698 208.33 138.353C203.648 141.009 198.345 142.375 192.962 142.313C187.58 142.251 182.31 140.763 177.69 138L138 177.7C141.808 184.071 143.155 191.614 141.79 198.91C140.424 206.205 136.44 212.75 130.585 217.313C124.731 221.875 117.412 224.141 110.004 223.683C102.596 223.226 95.6103 220.077 90.3621 214.828C85.1139 209.58 81.9647 202.595 81.5072 195.187C81.0497 187.779 83.3154 180.459 87.878 174.605C92.4405 168.751 98.9853 164.766 106.281 163.401C113.576 162.035 121.119 163.383 127.49 167.19L167.19 127.49C165.664 124.941 164.518 122.182 163.79 119.3H141.39C139.721 125.858 135.915 131.673 130.573 135.826C125.231 139.98 118.657 142.234 111.89 142.234C105.123 142.234 98.5494 139.98 93.2071 135.826C87.8648 131.673 84.0587 125.858 82.39 119.3H60C58.1878 126.495 53.8086 132.78 47.6863 136.971C41.5641 141.163 34.1211 142.972 26.7579 142.059C19.3947 141.146 12.6191 137.574 7.70605 132.014C2.79302 126.454 0.0813599 119.29 0.0813599 111.87C0.0813599 104.451 2.79302 97.2871 7.70605 91.7272C12.6191 86.1673 19.3947 82.5947 26.7579 81.6817C34.1211 80.7686 41.5641 82.5781 47.6863 86.7696C53.8086 90.9611 58.1878 97.2456 60 104.44H82.35ZM100.86 204.32C103.407 206.868 106.759 208.453 110.345 208.806C113.93 209.159 117.527 208.258 120.522 206.256C123.517 204.254 125.725 201.276 126.771 197.828C127.816 194.38 127.633 190.677 126.253 187.349C124.874 184.021 122.383 181.274 119.205 179.577C116.027 177.88 112.359 177.337 108.826 178.042C105.293 178.746 102.113 180.654 99.8291 183.44C97.5451 186.226 96.2979 189.718 96.3 193.32C96.2985 195.364 96.7006 197.388 97.4831 199.275C98.2656 201.163 99.4132 202.877 100.86 204.32ZM204.32 122.88C206.868 120.333 208.453 116.981 208.806 113.396C209.159 109.811 208.258 106.214 206.256 103.219C204.254 100.223 201.275 98.0151 197.827 96.97C194.38 95.9249 190.676 96.1077 187.348 97.4873C184.02 98.8669 181.274 101.358 179.577 104.536C177.879 107.714 177.337 111.382 178.041 114.915C178.746 118.448 180.653 121.627 183.439 123.911C186.226 126.195 189.717 127.443 193.32 127.44C195.364 127.443 197.388 127.042 199.275 126.259C201.163 125.476 202.878 124.328 204.32 122.88ZM122.88 19.4205C120.333 16.8729 116.981 15.2876 113.395 14.9347C109.81 14.5817 106.213 15.483 103.218 17.4849C100.223 19.4868 98.0146 22.4654 96.9696 25.9131C95.9245 29.3608 96.1073 33.0642 97.4869 36.3922C98.8665 39.7202 101.358 42.4668 104.535 44.1639C107.713 45.861 111.381 46.4036 114.914 45.6992C118.447 44.9949 121.627 43.0871 123.911 40.301C126.195 37.515 127.442 34.0231 127.44 30.4205C127.44 28.3772 127.038 26.3539 126.255 24.4664C125.473 22.5788 124.326 20.8642 122.88 19.4205ZM19.42 100.86C16.8725 103.408 15.2872 106.76 14.9342 110.345C14.5813 113.93 15.4826 117.527 17.4844 120.522C19.4863 123.518 22.4649 125.726 25.9127 126.771C29.3604 127.816 33.0638 127.633 36.3918 126.254C39.7198 124.874 42.4664 122.383 44.1635 119.205C45.8606 116.027 46.4032 112.359 45.6988 108.826C44.9944 105.293 43.0866 102.114 40.3006 99.8296C37.5145 97.5455 34.0227 96.2983 30.42 96.3005C26.2938 96.3018 22.337 97.9421 19.42 100.86ZM100.86 100.86C98.3125 103.408 96.7272 106.76 96.3742 110.345C96.0213 113.93 96.9226 117.527 98.9244 120.522C100.926 123.518 103.905 125.726 107.353 126.771C110.8 127.816 114.504 127.633 117.832 126.254C121.16 124.874 123.906 122.383 125.604 119.205C127.301 116.027 127.843 112.359 127.139 108.826C126.434 105.293 124.527 102.114 121.741 99.8296C118.955 97.5455 115.463 96.2983 111.86 96.3005C109.817 96.299 107.793 96.701 105.905 97.4835C104.018 98.2661 102.303 99.4136 100.86 100.86Z\" fill=\"#00AEEF\"/>\n",
       "    </g>\n",
       "    <defs>\n",
       "        <clipPath id=\"clip0_4338_178347\">\n",
       "            <rect width=\"566.93\" height=\"223.75\" fill=\"white\"/>\n",
       "        </clipPath>\n",
       "    </defs>\n",
       "  </svg>\n",
       "</div>\n",
       "\n",
       "        <table class=\"jp-RenderedHTMLCommon\" style=\"border-collapse: collapse;color: var(--jp-ui-font-color1);font-size: var(--jp-ui-font-size1);\">\n",
       "    <tr>\n",
       "        <td style=\"text-align: left\"><b>Python version:</b></td>\n",
       "        <td style=\"text-align: left\"><b>3.8.10</b></td>\n",
       "    </tr>\n",
       "    <tr>\n",
       "        <td style=\"text-align: left\"><b>Ray version:</b></td>\n",
       "        <td style=\"text-align: left\"><b>2.7.1</b></td>\n",
       "    </tr>\n",
       "    \n",
       "</table>\n",
       "\n",
       "    </div>\n",
       "</div>\n"
      ],
      "text/plain": [
       "RayContext(dashboard_url='', python_version='3.8.10', ray_version='2.7.1', ray_commit='9f07c12615958c3af3760604f6dcacc4b3758a47', protocol_version=None)"
      ]
     },
     "execution_count": 11,
     "metadata": {},
     "output_type": "execute_result"
    }
   ],
   "source": [
    "# starting ray runtime\n",
    "ray.init()"
   ]
  },
  {
   "cell_type": "code",
   "execution_count": 12,
   "metadata": {},
   "outputs": [
    {
     "data": {
      "text/plain": [
       "{'node:127.0.0.1': 1.0,\n",
       " 'object_store_memory': 6485864448.0,\n",
       " 'memory': 12971728896.0,\n",
       " 'node:__internal_head__': 1.0,\n",
       " 'CPU': 8.0}"
      ]
     },
     "execution_count": 12,
     "metadata": {},
     "output_type": "execute_result"
    }
   ],
   "source": [
    "# checking available resources\n",
    "ray.cluster_resources()"
   ]
  },
  {
   "cell_type": "code",
   "execution_count": 13,
   "metadata": {},
   "outputs": [
    {
     "name": "stderr",
     "output_type": "stream",
     "text": [
      "2023-10-12 17:30:22,865\tINFO tune.py:645 -- [output] This uses the legacy output and progress reporter, as Jupyter notebooks are not supported by the new engine, yet. For more information, please see https://github.com/ray-project/ray/issues/36949\n"
     ]
    },
    {
     "data": {
      "text/html": [
       "<div class=\"tuneStatus\">\n",
       "  <div style=\"display: flex;flex-direction: row\">\n",
       "    <div style=\"display: flex;flex-direction: column;\">\n",
       "      <h3>Tune Status</h3>\n",
       "      <table>\n",
       "<tbody>\n",
       "<tr><td>Current time:</td><td>2023-10-12 17:40:58</td></tr>\n",
       "<tr><td>Running for: </td><td>00:10:35.52        </td></tr>\n",
       "<tr><td>Memory:      </td><td>11.9/31.6 GiB      </td></tr>\n",
       "</tbody>\n",
       "</table>\n",
       "    </div>\n",
       "    <div class=\"vDivider\"></div>\n",
       "    <div class=\"systemInfo\">\n",
       "      <h3>System Info</h3>\n",
       "      Using FIFO scheduling algorithm.<br>Logical resource usage: 2.0/8 CPUs, 0/0 GPUs\n",
       "    </div>\n",
       "    \n",
       "  </div>\n",
       "  <div class=\"hDivider\"></div>\n",
       "  <div class=\"trialStatus\">\n",
       "    <h3>Trial Status</h3>\n",
       "    <table>\n",
       "<thead>\n",
       "<tr><th>Trial name                </th><th>status    </th><th>loc           </th><th style=\"text-align: right;\">  hidden_size</th><th style=\"text-align: right;\">  learning_rate</th><th style=\"text-align: right;\">  num_epochs</th><th style=\"text-align: right;\">  num_layers</th><th style=\"text-align: right;\">  iter</th><th style=\"text-align: right;\">  total time (s)</th><th style=\"text-align: right;\">      mse</th></tr>\n",
       "</thead>\n",
       "<tbody>\n",
       "<tr><td>model_fit_eval_425de_00000</td><td>TERMINATED</td><td>127.0.0.1:8800</td><td style=\"text-align: right;\">            2</td><td style=\"text-align: right;\">         0.0005</td><td style=\"text-align: right;\">        2000</td><td style=\"text-align: right;\">           1</td><td style=\"text-align: right;\">     1</td><td style=\"text-align: right;\">         9.14014</td><td style=\"text-align: right;\">329.525  </td></tr>\n",
       "<tr><td>model_fit_eval_425de_00001</td><td>TERMINATED</td><td>127.0.0.1:8836</td><td style=\"text-align: right;\">            3</td><td style=\"text-align: right;\">         0.0005</td><td style=\"text-align: right;\">        2000</td><td style=\"text-align: right;\">           1</td><td style=\"text-align: right;\">     1</td><td style=\"text-align: right;\">         8.85471</td><td style=\"text-align: right;\">157.602  </td></tr>\n",
       "<tr><td>model_fit_eval_425de_00002</td><td>TERMINATED</td><td>127.0.0.1:6660</td><td style=\"text-align: right;\">            5</td><td style=\"text-align: right;\">         0.0005</td><td style=\"text-align: right;\">        2000</td><td style=\"text-align: right;\">           1</td><td style=\"text-align: right;\">     1</td><td style=\"text-align: right;\">         9.43728</td><td style=\"text-align: right;\"> 66.1395 </td></tr>\n",
       "<tr><td>model_fit_eval_425de_00003</td><td>TERMINATED</td><td>127.0.0.1:9744</td><td style=\"text-align: right;\">            2</td><td style=\"text-align: right;\">         0.001 </td><td style=\"text-align: right;\">        2000</td><td style=\"text-align: right;\">           1</td><td style=\"text-align: right;\">     1</td><td style=\"text-align: right;\">         9.42095</td><td style=\"text-align: right;\"> 82.3559 </td></tr>\n",
       "<tr><td>model_fit_eval_425de_00004</td><td>TERMINATED</td><td>127.0.0.1:8836</td><td style=\"text-align: right;\">            3</td><td style=\"text-align: right;\">         0.001 </td><td style=\"text-align: right;\">        2000</td><td style=\"text-align: right;\">           1</td><td style=\"text-align: right;\">     1</td><td style=\"text-align: right;\">         7.7321 </td><td style=\"text-align: right;\">146.14   </td></tr>\n",
       "<tr><td>model_fit_eval_425de_00005</td><td>TERMINATED</td><td>127.0.0.1:8800</td><td style=\"text-align: right;\">            5</td><td style=\"text-align: right;\">         0.001 </td><td style=\"text-align: right;\">        2000</td><td style=\"text-align: right;\">           1</td><td style=\"text-align: right;\">     1</td><td style=\"text-align: right;\">         7.61616</td><td style=\"text-align: right;\"> 71.1694 </td></tr>\n",
       "<tr><td>model_fit_eval_425de_00006</td><td>TERMINATED</td><td>127.0.0.1:9744</td><td style=\"text-align: right;\">            2</td><td style=\"text-align: right;\">         0.002 </td><td style=\"text-align: right;\">        2000</td><td style=\"text-align: right;\">           1</td><td style=\"text-align: right;\">     1</td><td style=\"text-align: right;\">         7.57837</td><td style=\"text-align: right;\"> 59.1746 </td></tr>\n",
       "<tr><td>model_fit_eval_425de_00007</td><td>TERMINATED</td><td>127.0.0.1:6660</td><td style=\"text-align: right;\">            3</td><td style=\"text-align: right;\">         0.002 </td><td style=\"text-align: right;\">        2000</td><td style=\"text-align: right;\">           1</td><td style=\"text-align: right;\">     1</td><td style=\"text-align: right;\">         7.43611</td><td style=\"text-align: right;\"> 61.1575 </td></tr>\n",
       "<tr><td>model_fit_eval_425de_00008</td><td>TERMINATED</td><td>127.0.0.1:8836</td><td style=\"text-align: right;\">            5</td><td style=\"text-align: right;\">         0.002 </td><td style=\"text-align: right;\">        2000</td><td style=\"text-align: right;\">           1</td><td style=\"text-align: right;\">     1</td><td style=\"text-align: right;\">         6.28448</td><td style=\"text-align: right;\"> 29.8083 </td></tr>\n",
       "<tr><td>model_fit_eval_425de_00009</td><td>TERMINATED</td><td>127.0.0.1:8800</td><td style=\"text-align: right;\">            2</td><td style=\"text-align: right;\">         0.0005</td><td style=\"text-align: right;\">        4000</td><td style=\"text-align: right;\">           1</td><td style=\"text-align: right;\">     1</td><td style=\"text-align: right;\">        13.9387 </td><td style=\"text-align: right;\">130.952  </td></tr>\n",
       "<tr><td>model_fit_eval_425de_00010</td><td>TERMINATED</td><td>127.0.0.1:9744</td><td style=\"text-align: right;\">            3</td><td style=\"text-align: right;\">         0.0005</td><td style=\"text-align: right;\">        4000</td><td style=\"text-align: right;\">           1</td><td style=\"text-align: right;\">     1</td><td style=\"text-align: right;\">        13.5702 </td><td style=\"text-align: right;\"> 48.8724 </td></tr>\n",
       "<tr><td>model_fit_eval_425de_00011</td><td>TERMINATED</td><td>127.0.0.1:6660</td><td style=\"text-align: right;\">            5</td><td style=\"text-align: right;\">         0.0005</td><td style=\"text-align: right;\">        4000</td><td style=\"text-align: right;\">           1</td><td style=\"text-align: right;\">     1</td><td style=\"text-align: right;\">        14.2973 </td><td style=\"text-align: right;\"> 38.1851 </td></tr>\n",
       "<tr><td>model_fit_eval_425de_00012</td><td>TERMINATED</td><td>127.0.0.1:8836</td><td style=\"text-align: right;\">            2</td><td style=\"text-align: right;\">         0.001 </td><td style=\"text-align: right;\">        4000</td><td style=\"text-align: right;\">           1</td><td style=\"text-align: right;\">     1</td><td style=\"text-align: right;\">        15.8238 </td><td style=\"text-align: right;\"> 60.1696 </td></tr>\n",
       "<tr><td>model_fit_eval_425de_00013</td><td>TERMINATED</td><td>127.0.0.1:9744</td><td style=\"text-align: right;\">            3</td><td style=\"text-align: right;\">         0.001 </td><td style=\"text-align: right;\">        4000</td><td style=\"text-align: right;\">           1</td><td style=\"text-align: right;\">     1</td><td style=\"text-align: right;\">        15.203  </td><td style=\"text-align: right;\"> 73.4232 </td></tr>\n",
       "<tr><td>model_fit_eval_425de_00014</td><td>TERMINATED</td><td>127.0.0.1:8800</td><td style=\"text-align: right;\">            5</td><td style=\"text-align: right;\">         0.001 </td><td style=\"text-align: right;\">        4000</td><td style=\"text-align: right;\">           1</td><td style=\"text-align: right;\">     1</td><td style=\"text-align: right;\">        15.7022 </td><td style=\"text-align: right;\"> 24.4226 </td></tr>\n",
       "<tr><td>model_fit_eval_425de_00015</td><td>TERMINATED</td><td>127.0.0.1:6660</td><td style=\"text-align: right;\">            2</td><td style=\"text-align: right;\">         0.002 </td><td style=\"text-align: right;\">        4000</td><td style=\"text-align: right;\">           1</td><td style=\"text-align: right;\">     1</td><td style=\"text-align: right;\">        15.2983 </td><td style=\"text-align: right;\"> 56.5159 </td></tr>\n",
       "<tr><td>model_fit_eval_425de_00016</td><td>TERMINATED</td><td>127.0.0.1:8836</td><td style=\"text-align: right;\">            3</td><td style=\"text-align: right;\">         0.002 </td><td style=\"text-align: right;\">        4000</td><td style=\"text-align: right;\">           1</td><td style=\"text-align: right;\">     1</td><td style=\"text-align: right;\">        15.7264 </td><td style=\"text-align: right;\"> 35.2086 </td></tr>\n",
       "<tr><td>model_fit_eval_425de_00017</td><td>TERMINATED</td><td>127.0.0.1:9744</td><td style=\"text-align: right;\">            5</td><td style=\"text-align: right;\">         0.002 </td><td style=\"text-align: right;\">        4000</td><td style=\"text-align: right;\">           1</td><td style=\"text-align: right;\">     1</td><td style=\"text-align: right;\">        14.4629 </td><td style=\"text-align: right;\">  3.39712</td></tr>\n",
       "<tr><td>model_fit_eval_425de_00018</td><td>TERMINATED</td><td>127.0.0.1:8800</td><td style=\"text-align: right;\">            2</td><td style=\"text-align: right;\">         0.0005</td><td style=\"text-align: right;\">        8000</td><td style=\"text-align: right;\">           1</td><td style=\"text-align: right;\">     1</td><td style=\"text-align: right;\">        28.4174 </td><td style=\"text-align: right;\"> 48.6744 </td></tr>\n",
       "<tr><td>model_fit_eval_425de_00019</td><td>TERMINATED</td><td>127.0.0.1:6660</td><td style=\"text-align: right;\">            3</td><td style=\"text-align: right;\">         0.0005</td><td style=\"text-align: right;\">        8000</td><td style=\"text-align: right;\">           1</td><td style=\"text-align: right;\">     1</td><td style=\"text-align: right;\">        28.3164 </td><td style=\"text-align: right;\"> 42.2729 </td></tr>\n",
       "<tr><td>model_fit_eval_425de_00020</td><td>TERMINATED</td><td>127.0.0.1:8836</td><td style=\"text-align: right;\">            5</td><td style=\"text-align: right;\">         0.0005</td><td style=\"text-align: right;\">        8000</td><td style=\"text-align: right;\">           1</td><td style=\"text-align: right;\">     1</td><td style=\"text-align: right;\">        27.5393 </td><td style=\"text-align: right;\"> 11.3932 </td></tr>\n",
       "<tr><td>model_fit_eval_425de_00021</td><td>TERMINATED</td><td>127.0.0.1:9744</td><td style=\"text-align: right;\">            2</td><td style=\"text-align: right;\">         0.001 </td><td style=\"text-align: right;\">        8000</td><td style=\"text-align: right;\">           1</td><td style=\"text-align: right;\">     1</td><td style=\"text-align: right;\">        27.044  </td><td style=\"text-align: right;\"> 35.3802 </td></tr>\n",
       "<tr><td>model_fit_eval_425de_00022</td><td>TERMINATED</td><td>127.0.0.1:8800</td><td style=\"text-align: right;\">            3</td><td style=\"text-align: right;\">         0.001 </td><td style=\"text-align: right;\">        8000</td><td style=\"text-align: right;\">           1</td><td style=\"text-align: right;\">     1</td><td style=\"text-align: right;\">        26.8575 </td><td style=\"text-align: right;\"> 14.6088 </td></tr>\n",
       "<tr><td>model_fit_eval_425de_00023</td><td>TERMINATED</td><td>127.0.0.1:8836</td><td style=\"text-align: right;\">            5</td><td style=\"text-align: right;\">         0.001 </td><td style=\"text-align: right;\">        8000</td><td style=\"text-align: right;\">           1</td><td style=\"text-align: right;\">     1</td><td style=\"text-align: right;\">        28.4165 </td><td style=\"text-align: right;\">  8.74518</td></tr>\n",
       "<tr><td>model_fit_eval_425de_00024</td><td>TERMINATED</td><td>127.0.0.1:6660</td><td style=\"text-align: right;\">            2</td><td style=\"text-align: right;\">         0.002 </td><td style=\"text-align: right;\">        8000</td><td style=\"text-align: right;\">           1</td><td style=\"text-align: right;\">     1</td><td style=\"text-align: right;\">        27.895  </td><td style=\"text-align: right;\"> 16.5006 </td></tr>\n",
       "<tr><td>model_fit_eval_425de_00025</td><td>TERMINATED</td><td>127.0.0.1:9744</td><td style=\"text-align: right;\">            3</td><td style=\"text-align: right;\">         0.002 </td><td style=\"text-align: right;\">        8000</td><td style=\"text-align: right;\">           1</td><td style=\"text-align: right;\">     1</td><td style=\"text-align: right;\">        27.9185 </td><td style=\"text-align: right;\"> 16.3758 </td></tr>\n",
       "<tr><td>model_fit_eval_425de_00026</td><td>TERMINATED</td><td>127.0.0.1:8800</td><td style=\"text-align: right;\">            5</td><td style=\"text-align: right;\">         0.002 </td><td style=\"text-align: right;\">        8000</td><td style=\"text-align: right;\">           1</td><td style=\"text-align: right;\">     1</td><td style=\"text-align: right;\">        30.1914 </td><td style=\"text-align: right;\">  4.90985</td></tr>\n",
       "<tr><td>model_fit_eval_425de_00027</td><td>TERMINATED</td><td>127.0.0.1:8836</td><td style=\"text-align: right;\">            2</td><td style=\"text-align: right;\">         0.0005</td><td style=\"text-align: right;\">        2000</td><td style=\"text-align: right;\">           2</td><td style=\"text-align: right;\">     1</td><td style=\"text-align: right;\">        10.0621 </td><td style=\"text-align: right;\">212.217  </td></tr>\n",
       "<tr><td>model_fit_eval_425de_00028</td><td>TERMINATED</td><td>127.0.0.1:6660</td><td style=\"text-align: right;\">            3</td><td style=\"text-align: right;\">         0.0005</td><td style=\"text-align: right;\">        2000</td><td style=\"text-align: right;\">           2</td><td style=\"text-align: right;\">     1</td><td style=\"text-align: right;\">        10.6751 </td><td style=\"text-align: right;\">352.487  </td></tr>\n",
       "<tr><td>model_fit_eval_425de_00029</td><td>TERMINATED</td><td>127.0.0.1:9744</td><td style=\"text-align: right;\">            5</td><td style=\"text-align: right;\">         0.0005</td><td style=\"text-align: right;\">        2000</td><td style=\"text-align: right;\">           2</td><td style=\"text-align: right;\">     1</td><td style=\"text-align: right;\">        11.8103 </td><td style=\"text-align: right;\">196.138  </td></tr>\n",
       "<tr><td>model_fit_eval_425de_00030</td><td>TERMINATED</td><td>127.0.0.1:8836</td><td style=\"text-align: right;\">            2</td><td style=\"text-align: right;\">         0.001 </td><td style=\"text-align: right;\">        2000</td><td style=\"text-align: right;\">           2</td><td style=\"text-align: right;\">     1</td><td style=\"text-align: right;\">        12.3489 </td><td style=\"text-align: right;\">225.838  </td></tr>\n",
       "<tr><td>model_fit_eval_425de_00031</td><td>TERMINATED</td><td>127.0.0.1:6660</td><td style=\"text-align: right;\">            3</td><td style=\"text-align: right;\">         0.001 </td><td style=\"text-align: right;\">        2000</td><td style=\"text-align: right;\">           2</td><td style=\"text-align: right;\">     1</td><td style=\"text-align: right;\">         9.67841</td><td style=\"text-align: right;\">132.775  </td></tr>\n",
       "<tr><td>model_fit_eval_425de_00032</td><td>TERMINATED</td><td>127.0.0.1:6660</td><td style=\"text-align: right;\">            5</td><td style=\"text-align: right;\">         0.001 </td><td style=\"text-align: right;\">        2000</td><td style=\"text-align: right;\">           2</td><td style=\"text-align: right;\">     1</td><td style=\"text-align: right;\">        12.0986 </td><td style=\"text-align: right;\"> 95.4464 </td></tr>\n",
       "<tr><td>model_fit_eval_425de_00033</td><td>TERMINATED</td><td>127.0.0.1:9744</td><td style=\"text-align: right;\">            2</td><td style=\"text-align: right;\">         0.002 </td><td style=\"text-align: right;\">        2000</td><td style=\"text-align: right;\">           2</td><td style=\"text-align: right;\">     1</td><td style=\"text-align: right;\">        10.4266 </td><td style=\"text-align: right;\">113.933  </td></tr>\n",
       "<tr><td>model_fit_eval_425de_00034</td><td>TERMINATED</td><td>127.0.0.1:8800</td><td style=\"text-align: right;\">            3</td><td style=\"text-align: right;\">         0.002 </td><td style=\"text-align: right;\">        2000</td><td style=\"text-align: right;\">           2</td><td style=\"text-align: right;\">     1</td><td style=\"text-align: right;\">        10.1179 </td><td style=\"text-align: right;\"> 43.8577 </td></tr>\n",
       "<tr><td>model_fit_eval_425de_00035</td><td>TERMINATED</td><td>127.0.0.1:8836</td><td style=\"text-align: right;\">            5</td><td style=\"text-align: right;\">         0.002 </td><td style=\"text-align: right;\">        2000</td><td style=\"text-align: right;\">           2</td><td style=\"text-align: right;\">     1</td><td style=\"text-align: right;\">        10.4632 </td><td style=\"text-align: right;\"> 92.3771 </td></tr>\n",
       "<tr><td>model_fit_eval_425de_00036</td><td>TERMINATED</td><td>127.0.0.1:6660</td><td style=\"text-align: right;\">            2</td><td style=\"text-align: right;\">         0.0005</td><td style=\"text-align: right;\">        4000</td><td style=\"text-align: right;\">           2</td><td style=\"text-align: right;\">     1</td><td style=\"text-align: right;\">        20.1721 </td><td style=\"text-align: right;\">196.594  </td></tr>\n",
       "<tr><td>model_fit_eval_425de_00037</td><td>TERMINATED</td><td>127.0.0.1:9744</td><td style=\"text-align: right;\">            3</td><td style=\"text-align: right;\">         0.0005</td><td style=\"text-align: right;\">        4000</td><td style=\"text-align: right;\">           2</td><td style=\"text-align: right;\">     1</td><td style=\"text-align: right;\">        19.6098 </td><td style=\"text-align: right;\">126.117  </td></tr>\n",
       "<tr><td>model_fit_eval_425de_00038</td><td>TERMINATED</td><td>127.0.0.1:8800</td><td style=\"text-align: right;\">            5</td><td style=\"text-align: right;\">         0.0005</td><td style=\"text-align: right;\">        4000</td><td style=\"text-align: right;\">           2</td><td style=\"text-align: right;\">     1</td><td style=\"text-align: right;\">        20.5279 </td><td style=\"text-align: right;\"> 28.4158 </td></tr>\n",
       "<tr><td>model_fit_eval_425de_00039</td><td>TERMINATED</td><td>127.0.0.1:8836</td><td style=\"text-align: right;\">            2</td><td style=\"text-align: right;\">         0.001 </td><td style=\"text-align: right;\">        4000</td><td style=\"text-align: right;\">           2</td><td style=\"text-align: right;\">     1</td><td style=\"text-align: right;\">        19.7433 </td><td style=\"text-align: right;\">119.048  </td></tr>\n",
       "<tr><td>model_fit_eval_425de_00040</td><td>TERMINATED</td><td>127.0.0.1:6660</td><td style=\"text-align: right;\">            3</td><td style=\"text-align: right;\">         0.001 </td><td style=\"text-align: right;\">        4000</td><td style=\"text-align: right;\">           2</td><td style=\"text-align: right;\">     1</td><td style=\"text-align: right;\">        20.8426 </td><td style=\"text-align: right;\"> 75.1747 </td></tr>\n",
       "<tr><td>model_fit_eval_425de_00041</td><td>TERMINATED</td><td>127.0.0.1:9744</td><td style=\"text-align: right;\">            5</td><td style=\"text-align: right;\">         0.001 </td><td style=\"text-align: right;\">        4000</td><td style=\"text-align: right;\">           2</td><td style=\"text-align: right;\">     1</td><td style=\"text-align: right;\">        21.7898 </td><td style=\"text-align: right;\"> 25.0726 </td></tr>\n",
       "<tr><td>model_fit_eval_425de_00042</td><td>TERMINATED</td><td>127.0.0.1:8800</td><td style=\"text-align: right;\">            2</td><td style=\"text-align: right;\">         0.002 </td><td style=\"text-align: right;\">        4000</td><td style=\"text-align: right;\">           2</td><td style=\"text-align: right;\">     1</td><td style=\"text-align: right;\">        20.7099 </td><td style=\"text-align: right;\"> 28.1007 </td></tr>\n",
       "<tr><td>model_fit_eval_425de_00043</td><td>TERMINATED</td><td>127.0.0.1:8836</td><td style=\"text-align: right;\">            3</td><td style=\"text-align: right;\">         0.002 </td><td style=\"text-align: right;\">        4000</td><td style=\"text-align: right;\">           2</td><td style=\"text-align: right;\">     1</td><td style=\"text-align: right;\">        20.8979 </td><td style=\"text-align: right;\"> 93.5764 </td></tr>\n",
       "<tr><td>model_fit_eval_425de_00044</td><td>TERMINATED</td><td>127.0.0.1:6660</td><td style=\"text-align: right;\">            5</td><td style=\"text-align: right;\">         0.002 </td><td style=\"text-align: right;\">        4000</td><td style=\"text-align: right;\">           2</td><td style=\"text-align: right;\">     1</td><td style=\"text-align: right;\">        21.8173 </td><td style=\"text-align: right;\"> 18.0043 </td></tr>\n",
       "<tr><td>model_fit_eval_425de_00045</td><td>TERMINATED</td><td>127.0.0.1:9744</td><td style=\"text-align: right;\">            2</td><td style=\"text-align: right;\">         0.0005</td><td style=\"text-align: right;\">        8000</td><td style=\"text-align: right;\">           2</td><td style=\"text-align: right;\">     1</td><td style=\"text-align: right;\">        42.995  </td><td style=\"text-align: right;\"> 84.7947 </td></tr>\n",
       "<tr><td>model_fit_eval_425de_00046</td><td>TERMINATED</td><td>127.0.0.1:8800</td><td style=\"text-align: right;\">            3</td><td style=\"text-align: right;\">         0.0005</td><td style=\"text-align: right;\">        8000</td><td style=\"text-align: right;\">           2</td><td style=\"text-align: right;\">     1</td><td style=\"text-align: right;\">        43.3993 </td><td style=\"text-align: right;\">  9.43342</td></tr>\n",
       "<tr><td>model_fit_eval_425de_00047</td><td>TERMINATED</td><td>127.0.0.1:8836</td><td style=\"text-align: right;\">            5</td><td style=\"text-align: right;\">         0.0005</td><td style=\"text-align: right;\">        8000</td><td style=\"text-align: right;\">           2</td><td style=\"text-align: right;\">     1</td><td style=\"text-align: right;\">        47.0289 </td><td style=\"text-align: right;\">  7.98826</td></tr>\n",
       "<tr><td>model_fit_eval_425de_00048</td><td>TERMINATED</td><td>127.0.0.1:6660</td><td style=\"text-align: right;\">            2</td><td style=\"text-align: right;\">         0.001 </td><td style=\"text-align: right;\">        8000</td><td style=\"text-align: right;\">           2</td><td style=\"text-align: right;\">     1</td><td style=\"text-align: right;\">        44.0541 </td><td style=\"text-align: right;\"> 54.4444 </td></tr>\n",
       "<tr><td>model_fit_eval_425de_00049</td><td>TERMINATED</td><td>127.0.0.1:9744</td><td style=\"text-align: right;\">            3</td><td style=\"text-align: right;\">         0.001 </td><td style=\"text-align: right;\">        8000</td><td style=\"text-align: right;\">           2</td><td style=\"text-align: right;\">     1</td><td style=\"text-align: right;\">        45.3266 </td><td style=\"text-align: right;\"> 14.1845 </td></tr>\n",
       "<tr><td>model_fit_eval_425de_00050</td><td>TERMINATED</td><td>127.0.0.1:8800</td><td style=\"text-align: right;\">            5</td><td style=\"text-align: right;\">         0.001 </td><td style=\"text-align: right;\">        8000</td><td style=\"text-align: right;\">           2</td><td style=\"text-align: right;\">     1</td><td style=\"text-align: right;\">        42.8606 </td><td style=\"text-align: right;\">  6.35038</td></tr>\n",
       "<tr><td>model_fit_eval_425de_00051</td><td>TERMINATED</td><td>127.0.0.1:8836</td><td style=\"text-align: right;\">            2</td><td style=\"text-align: right;\">         0.002 </td><td style=\"text-align: right;\">        8000</td><td style=\"text-align: right;\">           2</td><td style=\"text-align: right;\">     1</td><td style=\"text-align: right;\">        42.5958 </td><td style=\"text-align: right;\"> 38.0448 </td></tr>\n",
       "<tr><td>model_fit_eval_425de_00052</td><td>TERMINATED</td><td>127.0.0.1:6660</td><td style=\"text-align: right;\">            3</td><td style=\"text-align: right;\">         0.002 </td><td style=\"text-align: right;\">        8000</td><td style=\"text-align: right;\">           2</td><td style=\"text-align: right;\">     1</td><td style=\"text-align: right;\">        41.4276 </td><td style=\"text-align: right;\"> 17.5261 </td></tr>\n",
       "<tr><td>model_fit_eval_425de_00053</td><td>TERMINATED</td><td>127.0.0.1:9744</td><td style=\"text-align: right;\">            5</td><td style=\"text-align: right;\">         0.002 </td><td style=\"text-align: right;\">        8000</td><td style=\"text-align: right;\">           2</td><td style=\"text-align: right;\">     1</td><td style=\"text-align: right;\">        47.7583 </td><td style=\"text-align: right;\"> 11.7846 </td></tr>\n",
       "<tr><td>model_fit_eval_425de_00054</td><td>TERMINATED</td><td>127.0.0.1:8800</td><td style=\"text-align: right;\">            2</td><td style=\"text-align: right;\">         0.0005</td><td style=\"text-align: right;\">        2000</td><td style=\"text-align: right;\">           4</td><td style=\"text-align: right;\">     1</td><td style=\"text-align: right;\">        16.7225 </td><td style=\"text-align: right;\">919.849  </td></tr>\n",
       "<tr><td>model_fit_eval_425de_00055</td><td>TERMINATED</td><td>127.0.0.1:8836</td><td style=\"text-align: right;\">            3</td><td style=\"text-align: right;\">         0.0005</td><td style=\"text-align: right;\">        2000</td><td style=\"text-align: right;\">           4</td><td style=\"text-align: right;\">     1</td><td style=\"text-align: right;\">        17.0627 </td><td style=\"text-align: right;\">334.306  </td></tr>\n",
       "<tr><td>model_fit_eval_425de_00056</td><td>TERMINATED</td><td>127.0.0.1:6660</td><td style=\"text-align: right;\">            5</td><td style=\"text-align: right;\">         0.0005</td><td style=\"text-align: right;\">        2000</td><td style=\"text-align: right;\">           4</td><td style=\"text-align: right;\">     1</td><td style=\"text-align: right;\">        21.053  </td><td style=\"text-align: right;\">212.141  </td></tr>\n",
       "<tr><td>model_fit_eval_425de_00057</td><td>TERMINATED</td><td>127.0.0.1:8800</td><td style=\"text-align: right;\">            2</td><td style=\"text-align: right;\">         0.001 </td><td style=\"text-align: right;\">        2000</td><td style=\"text-align: right;\">           4</td><td style=\"text-align: right;\">     1</td><td style=\"text-align: right;\">        20.9313 </td><td style=\"text-align: right;\">189.431  </td></tr>\n",
       "<tr><td>model_fit_eval_425de_00058</td><td>TERMINATED</td><td>127.0.0.1:8836</td><td style=\"text-align: right;\">            3</td><td style=\"text-align: right;\">         0.001 </td><td style=\"text-align: right;\">        2000</td><td style=\"text-align: right;\">           4</td><td style=\"text-align: right;\">     1</td><td style=\"text-align: right;\">        23.6968 </td><td style=\"text-align: right;\">212.313  </td></tr>\n",
       "<tr><td>model_fit_eval_425de_00059</td><td>TERMINATED</td><td>127.0.0.1:6660</td><td style=\"text-align: right;\">            5</td><td style=\"text-align: right;\">         0.001 </td><td style=\"text-align: right;\">        2000</td><td style=\"text-align: right;\">           4</td><td style=\"text-align: right;\">     1</td><td style=\"text-align: right;\">        22.3102 </td><td style=\"text-align: right;\"> 95.3809 </td></tr>\n",
       "<tr><td>model_fit_eval_425de_00060</td><td>TERMINATED</td><td>127.0.0.1:8800</td><td style=\"text-align: right;\">            2</td><td style=\"text-align: right;\">         0.002 </td><td style=\"text-align: right;\">        2000</td><td style=\"text-align: right;\">           4</td><td style=\"text-align: right;\">     1</td><td style=\"text-align: right;\">        21.486  </td><td style=\"text-align: right;\">120.841  </td></tr>\n",
       "<tr><td>model_fit_eval_425de_00061</td><td>TERMINATED</td><td>127.0.0.1:8836</td><td style=\"text-align: right;\">            3</td><td style=\"text-align: right;\">         0.002 </td><td style=\"text-align: right;\">        2000</td><td style=\"text-align: right;\">           4</td><td style=\"text-align: right;\">     1</td><td style=\"text-align: right;\">        19.9584 </td><td style=\"text-align: right;\"> 28.6263 </td></tr>\n",
       "<tr><td>model_fit_eval_425de_00062</td><td>TERMINATED</td><td>127.0.0.1:9744</td><td style=\"text-align: right;\">            5</td><td style=\"text-align: right;\">         0.002 </td><td style=\"text-align: right;\">        2000</td><td style=\"text-align: right;\">           4</td><td style=\"text-align: right;\">     1</td><td style=\"text-align: right;\">        22.122  </td><td style=\"text-align: right;\"> 44.5918 </td></tr>\n",
       "<tr><td>model_fit_eval_425de_00063</td><td>TERMINATED</td><td>127.0.0.1:6660</td><td style=\"text-align: right;\">            2</td><td style=\"text-align: right;\">         0.0005</td><td style=\"text-align: right;\">        4000</td><td style=\"text-align: right;\">           4</td><td style=\"text-align: right;\">     1</td><td style=\"text-align: right;\">        41.9409 </td><td style=\"text-align: right;\">270.525  </td></tr>\n",
       "<tr><td>model_fit_eval_425de_00064</td><td>TERMINATED</td><td>127.0.0.1:8800</td><td style=\"text-align: right;\">            3</td><td style=\"text-align: right;\">         0.0005</td><td style=\"text-align: right;\">        4000</td><td style=\"text-align: right;\">           4</td><td style=\"text-align: right;\">     1</td><td style=\"text-align: right;\">        39.9935 </td><td style=\"text-align: right;\">170.835  </td></tr>\n",
       "<tr><td>model_fit_eval_425de_00065</td><td>TERMINATED</td><td>127.0.0.1:8836</td><td style=\"text-align: right;\">            5</td><td style=\"text-align: right;\">         0.0005</td><td style=\"text-align: right;\">        4000</td><td style=\"text-align: right;\">           4</td><td style=\"text-align: right;\">     1</td><td style=\"text-align: right;\">        42.3609 </td><td style=\"text-align: right;\"> 67.6021 </td></tr>\n",
       "<tr><td>model_fit_eval_425de_00066</td><td>TERMINATED</td><td>127.0.0.1:9744</td><td style=\"text-align: right;\">            2</td><td style=\"text-align: right;\">         0.001 </td><td style=\"text-align: right;\">        4000</td><td style=\"text-align: right;\">           4</td><td style=\"text-align: right;\">     1</td><td style=\"text-align: right;\">        39.8385 </td><td style=\"text-align: right;\"> 87.6374 </td></tr>\n",
       "<tr><td>model_fit_eval_425de_00067</td><td>TERMINATED</td><td>127.0.0.1:8800</td><td style=\"text-align: right;\">            3</td><td style=\"text-align: right;\">         0.001 </td><td style=\"text-align: right;\">        4000</td><td style=\"text-align: right;\">           4</td><td style=\"text-align: right;\">     1</td><td style=\"text-align: right;\">        39.1254 </td><td style=\"text-align: right;\"> 37.1007 </td></tr>\n",
       "<tr><td>model_fit_eval_425de_00068</td><td>TERMINATED</td><td>127.0.0.1:6660</td><td style=\"text-align: right;\">            5</td><td style=\"text-align: right;\">         0.001 </td><td style=\"text-align: right;\">        4000</td><td style=\"text-align: right;\">           4</td><td style=\"text-align: right;\">     1</td><td style=\"text-align: right;\">        41.4176 </td><td style=\"text-align: right;\"> 59.8327 </td></tr>\n",
       "<tr><td>model_fit_eval_425de_00069</td><td>TERMINATED</td><td>127.0.0.1:9744</td><td style=\"text-align: right;\">            2</td><td style=\"text-align: right;\">         0.002 </td><td style=\"text-align: right;\">        4000</td><td style=\"text-align: right;\">           4</td><td style=\"text-align: right;\">     1</td><td style=\"text-align: right;\">        39.4582 </td><td style=\"text-align: right;\">128.478  </td></tr>\n",
       "<tr><td>model_fit_eval_425de_00070</td><td>TERMINATED</td><td>127.0.0.1:8836</td><td style=\"text-align: right;\">            3</td><td style=\"text-align: right;\">         0.002 </td><td style=\"text-align: right;\">        4000</td><td style=\"text-align: right;\">           4</td><td style=\"text-align: right;\">     1</td><td style=\"text-align: right;\">        40.7551 </td><td style=\"text-align: right;\"> 47.2017 </td></tr>\n",
       "<tr><td>model_fit_eval_425de_00071</td><td>TERMINATED</td><td>127.0.0.1:8800</td><td style=\"text-align: right;\">            5</td><td style=\"text-align: right;\">         0.002 </td><td style=\"text-align: right;\">        4000</td><td style=\"text-align: right;\">           4</td><td style=\"text-align: right;\">     1</td><td style=\"text-align: right;\">        41.0354 </td><td style=\"text-align: right;\"> 31.5631 </td></tr>\n",
       "<tr><td>model_fit_eval_425de_00072</td><td>TERMINATED</td><td>127.0.0.1:6660</td><td style=\"text-align: right;\">            2</td><td style=\"text-align: right;\">         0.0005</td><td style=\"text-align: right;\">        8000</td><td style=\"text-align: right;\">           4</td><td style=\"text-align: right;\">     1</td><td style=\"text-align: right;\">        82.3154 </td><td style=\"text-align: right;\"> 63.9567 </td></tr>\n",
       "<tr><td>model_fit_eval_425de_00073</td><td>TERMINATED</td><td>127.0.0.1:9744</td><td style=\"text-align: right;\">            3</td><td style=\"text-align: right;\">         0.0005</td><td style=\"text-align: right;\">        8000</td><td style=\"text-align: right;\">           4</td><td style=\"text-align: right;\">     1</td><td style=\"text-align: right;\">        80.7796 </td><td style=\"text-align: right;\"> 43.0027 </td></tr>\n",
       "<tr><td>model_fit_eval_425de_00074</td><td>TERMINATED</td><td>127.0.0.1:8836</td><td style=\"text-align: right;\">            5</td><td style=\"text-align: right;\">         0.0005</td><td style=\"text-align: right;\">        8000</td><td style=\"text-align: right;\">           4</td><td style=\"text-align: right;\">     1</td><td style=\"text-align: right;\">        83.2795 </td><td style=\"text-align: right;\"> 13.2044 </td></tr>\n",
       "<tr><td>model_fit_eval_425de_00075</td><td>TERMINATED</td><td>127.0.0.1:8800</td><td style=\"text-align: right;\">            2</td><td style=\"text-align: right;\">         0.001 </td><td style=\"text-align: right;\">        8000</td><td style=\"text-align: right;\">           4</td><td style=\"text-align: right;\">     1</td><td style=\"text-align: right;\">        80.1115 </td><td style=\"text-align: right;\"> 79.3322 </td></tr>\n",
       "<tr><td>model_fit_eval_425de_00076</td><td>TERMINATED</td><td>127.0.0.1:6660</td><td style=\"text-align: right;\">            3</td><td style=\"text-align: right;\">         0.001 </td><td style=\"text-align: right;\">        8000</td><td style=\"text-align: right;\">           4</td><td style=\"text-align: right;\">     1</td><td style=\"text-align: right;\">        82.1541 </td><td style=\"text-align: right;\"> 49.1565 </td></tr>\n",
       "<tr><td>model_fit_eval_425de_00077</td><td>TERMINATED</td><td>127.0.0.1:9744</td><td style=\"text-align: right;\">            5</td><td style=\"text-align: right;\">         0.001 </td><td style=\"text-align: right;\">        8000</td><td style=\"text-align: right;\">           4</td><td style=\"text-align: right;\">     1</td><td style=\"text-align: right;\">        80.5439 </td><td style=\"text-align: right;\"> 48.2309 </td></tr>\n",
       "<tr><td>model_fit_eval_425de_00078</td><td>TERMINATED</td><td>127.0.0.1:8836</td><td style=\"text-align: right;\">            2</td><td style=\"text-align: right;\">         0.002 </td><td style=\"text-align: right;\">        8000</td><td style=\"text-align: right;\">           4</td><td style=\"text-align: right;\">     1</td><td style=\"text-align: right;\">        78.9245 </td><td style=\"text-align: right;\"> 39.9895 </td></tr>\n",
       "<tr><td>model_fit_eval_425de_00079</td><td>TERMINATED</td><td>127.0.0.1:8800</td><td style=\"text-align: right;\">            3</td><td style=\"text-align: right;\">         0.002 </td><td style=\"text-align: right;\">        8000</td><td style=\"text-align: right;\">           4</td><td style=\"text-align: right;\">     1</td><td style=\"text-align: right;\">        69.7152 </td><td style=\"text-align: right;\"> 28.6495 </td></tr>\n",
       "<tr><td>model_fit_eval_425de_00080</td><td>TERMINATED</td><td>127.0.0.1:6660</td><td style=\"text-align: right;\">            5</td><td style=\"text-align: right;\">         0.002 </td><td style=\"text-align: right;\">        8000</td><td style=\"text-align: right;\">           4</td><td style=\"text-align: right;\">     1</td><td style=\"text-align: right;\">        52.9778 </td><td style=\"text-align: right;\"> 17.4733 </td></tr>\n",
       "</tbody>\n",
       "</table>\n",
       "  </div>\n",
       "</div>\n",
       "<style>\n",
       ".tuneStatus {\n",
       "  color: var(--jp-ui-font-color1);\n",
       "}\n",
       ".tuneStatus .systemInfo {\n",
       "  display: flex;\n",
       "  flex-direction: column;\n",
       "}\n",
       ".tuneStatus td {\n",
       "  white-space: nowrap;\n",
       "}\n",
       ".tuneStatus .trialStatus {\n",
       "  display: flex;\n",
       "  flex-direction: column;\n",
       "}\n",
       ".tuneStatus h3 {\n",
       "  font-weight: bold;\n",
       "}\n",
       ".tuneStatus .hDivider {\n",
       "  border-bottom-width: var(--jp-border-width);\n",
       "  border-bottom-color: var(--jp-border-color0);\n",
       "  border-bottom-style: solid;\n",
       "}\n",
       ".tuneStatus .vDivider {\n",
       "  border-left-width: var(--jp-border-width);\n",
       "  border-left-color: var(--jp-border-color0);\n",
       "  border-left-style: solid;\n",
       "  margin: 0.5em 1em 0.5em 1em;\n",
       "}\n",
       "</style>\n"
      ],
      "text/plain": [
       "<IPython.core.display.HTML object>"
      ]
     },
     "metadata": {},
     "output_type": "display_data"
    },
    {
     "data": {
      "text/html": [
       "<div class=\"trialProgress\">\n",
       "  <h3>Trial Progress</h3>\n",
       "  <table>\n",
       "<thead>\n",
       "<tr><th>Trial name                </th><th style=\"text-align: right;\">      mse</th></tr>\n",
       "</thead>\n",
       "<tbody>\n",
       "<tr><td>model_fit_eval_425de_00000</td><td style=\"text-align: right;\">329.525  </td></tr>\n",
       "<tr><td>model_fit_eval_425de_00001</td><td style=\"text-align: right;\">157.602  </td></tr>\n",
       "<tr><td>model_fit_eval_425de_00002</td><td style=\"text-align: right;\"> 66.1395 </td></tr>\n",
       "<tr><td>model_fit_eval_425de_00003</td><td style=\"text-align: right;\"> 82.3559 </td></tr>\n",
       "<tr><td>model_fit_eval_425de_00004</td><td style=\"text-align: right;\">146.14   </td></tr>\n",
       "<tr><td>model_fit_eval_425de_00005</td><td style=\"text-align: right;\"> 71.1694 </td></tr>\n",
       "<tr><td>model_fit_eval_425de_00006</td><td style=\"text-align: right;\"> 59.1746 </td></tr>\n",
       "<tr><td>model_fit_eval_425de_00007</td><td style=\"text-align: right;\"> 61.1575 </td></tr>\n",
       "<tr><td>model_fit_eval_425de_00008</td><td style=\"text-align: right;\"> 29.8083 </td></tr>\n",
       "<tr><td>model_fit_eval_425de_00009</td><td style=\"text-align: right;\">130.952  </td></tr>\n",
       "<tr><td>model_fit_eval_425de_00010</td><td style=\"text-align: right;\"> 48.8724 </td></tr>\n",
       "<tr><td>model_fit_eval_425de_00011</td><td style=\"text-align: right;\"> 38.1851 </td></tr>\n",
       "<tr><td>model_fit_eval_425de_00012</td><td style=\"text-align: right;\"> 60.1696 </td></tr>\n",
       "<tr><td>model_fit_eval_425de_00013</td><td style=\"text-align: right;\"> 73.4232 </td></tr>\n",
       "<tr><td>model_fit_eval_425de_00014</td><td style=\"text-align: right;\"> 24.4226 </td></tr>\n",
       "<tr><td>model_fit_eval_425de_00015</td><td style=\"text-align: right;\"> 56.5159 </td></tr>\n",
       "<tr><td>model_fit_eval_425de_00016</td><td style=\"text-align: right;\"> 35.2086 </td></tr>\n",
       "<tr><td>model_fit_eval_425de_00017</td><td style=\"text-align: right;\">  3.39712</td></tr>\n",
       "<tr><td>model_fit_eval_425de_00018</td><td style=\"text-align: right;\"> 48.6744 </td></tr>\n",
       "<tr><td>model_fit_eval_425de_00019</td><td style=\"text-align: right;\"> 42.2729 </td></tr>\n",
       "<tr><td>model_fit_eval_425de_00020</td><td style=\"text-align: right;\"> 11.3932 </td></tr>\n",
       "<tr><td>model_fit_eval_425de_00021</td><td style=\"text-align: right;\"> 35.3802 </td></tr>\n",
       "<tr><td>model_fit_eval_425de_00022</td><td style=\"text-align: right;\"> 14.6088 </td></tr>\n",
       "<tr><td>model_fit_eval_425de_00023</td><td style=\"text-align: right;\">  8.74518</td></tr>\n",
       "<tr><td>model_fit_eval_425de_00024</td><td style=\"text-align: right;\"> 16.5006 </td></tr>\n",
       "<tr><td>model_fit_eval_425de_00025</td><td style=\"text-align: right;\"> 16.3758 </td></tr>\n",
       "<tr><td>model_fit_eval_425de_00026</td><td style=\"text-align: right;\">  4.90985</td></tr>\n",
       "<tr><td>model_fit_eval_425de_00027</td><td style=\"text-align: right;\">212.217  </td></tr>\n",
       "<tr><td>model_fit_eval_425de_00028</td><td style=\"text-align: right;\">352.487  </td></tr>\n",
       "<tr><td>model_fit_eval_425de_00029</td><td style=\"text-align: right;\">196.138  </td></tr>\n",
       "<tr><td>model_fit_eval_425de_00030</td><td style=\"text-align: right;\">225.838  </td></tr>\n",
       "<tr><td>model_fit_eval_425de_00031</td><td style=\"text-align: right;\">132.775  </td></tr>\n",
       "<tr><td>model_fit_eval_425de_00032</td><td style=\"text-align: right;\"> 95.4464 </td></tr>\n",
       "<tr><td>model_fit_eval_425de_00033</td><td style=\"text-align: right;\">113.933  </td></tr>\n",
       "<tr><td>model_fit_eval_425de_00034</td><td style=\"text-align: right;\"> 43.8577 </td></tr>\n",
       "<tr><td>model_fit_eval_425de_00035</td><td style=\"text-align: right;\"> 92.3771 </td></tr>\n",
       "<tr><td>model_fit_eval_425de_00036</td><td style=\"text-align: right;\">196.594  </td></tr>\n",
       "<tr><td>model_fit_eval_425de_00037</td><td style=\"text-align: right;\">126.117  </td></tr>\n",
       "<tr><td>model_fit_eval_425de_00038</td><td style=\"text-align: right;\"> 28.4158 </td></tr>\n",
       "<tr><td>model_fit_eval_425de_00039</td><td style=\"text-align: right;\">119.048  </td></tr>\n",
       "<tr><td>model_fit_eval_425de_00040</td><td style=\"text-align: right;\"> 75.1747 </td></tr>\n",
       "<tr><td>model_fit_eval_425de_00041</td><td style=\"text-align: right;\"> 25.0726 </td></tr>\n",
       "<tr><td>model_fit_eval_425de_00042</td><td style=\"text-align: right;\"> 28.1007 </td></tr>\n",
       "<tr><td>model_fit_eval_425de_00043</td><td style=\"text-align: right;\"> 93.5764 </td></tr>\n",
       "<tr><td>model_fit_eval_425de_00044</td><td style=\"text-align: right;\"> 18.0043 </td></tr>\n",
       "<tr><td>model_fit_eval_425de_00045</td><td style=\"text-align: right;\"> 84.7947 </td></tr>\n",
       "<tr><td>model_fit_eval_425de_00046</td><td style=\"text-align: right;\">  9.43342</td></tr>\n",
       "<tr><td>model_fit_eval_425de_00047</td><td style=\"text-align: right;\">  7.98826</td></tr>\n",
       "<tr><td>model_fit_eval_425de_00048</td><td style=\"text-align: right;\"> 54.4444 </td></tr>\n",
       "<tr><td>model_fit_eval_425de_00049</td><td style=\"text-align: right;\"> 14.1845 </td></tr>\n",
       "<tr><td>model_fit_eval_425de_00050</td><td style=\"text-align: right;\">  6.35038</td></tr>\n",
       "<tr><td>model_fit_eval_425de_00051</td><td style=\"text-align: right;\"> 38.0448 </td></tr>\n",
       "<tr><td>model_fit_eval_425de_00052</td><td style=\"text-align: right;\"> 17.5261 </td></tr>\n",
       "<tr><td>model_fit_eval_425de_00053</td><td style=\"text-align: right;\"> 11.7846 </td></tr>\n",
       "<tr><td>model_fit_eval_425de_00054</td><td style=\"text-align: right;\">919.849  </td></tr>\n",
       "<tr><td>model_fit_eval_425de_00055</td><td style=\"text-align: right;\">334.306  </td></tr>\n",
       "<tr><td>model_fit_eval_425de_00056</td><td style=\"text-align: right;\">212.141  </td></tr>\n",
       "<tr><td>model_fit_eval_425de_00057</td><td style=\"text-align: right;\">189.431  </td></tr>\n",
       "<tr><td>model_fit_eval_425de_00058</td><td style=\"text-align: right;\">212.313  </td></tr>\n",
       "<tr><td>model_fit_eval_425de_00059</td><td style=\"text-align: right;\"> 95.3809 </td></tr>\n",
       "<tr><td>model_fit_eval_425de_00060</td><td style=\"text-align: right;\">120.841  </td></tr>\n",
       "<tr><td>model_fit_eval_425de_00061</td><td style=\"text-align: right;\"> 28.6263 </td></tr>\n",
       "<tr><td>model_fit_eval_425de_00062</td><td style=\"text-align: right;\"> 44.5918 </td></tr>\n",
       "<tr><td>model_fit_eval_425de_00063</td><td style=\"text-align: right;\">270.525  </td></tr>\n",
       "<tr><td>model_fit_eval_425de_00064</td><td style=\"text-align: right;\">170.835  </td></tr>\n",
       "<tr><td>model_fit_eval_425de_00065</td><td style=\"text-align: right;\"> 67.6021 </td></tr>\n",
       "<tr><td>model_fit_eval_425de_00066</td><td style=\"text-align: right;\"> 87.6374 </td></tr>\n",
       "<tr><td>model_fit_eval_425de_00067</td><td style=\"text-align: right;\"> 37.1007 </td></tr>\n",
       "<tr><td>model_fit_eval_425de_00068</td><td style=\"text-align: right;\"> 59.8327 </td></tr>\n",
       "<tr><td>model_fit_eval_425de_00069</td><td style=\"text-align: right;\">128.478  </td></tr>\n",
       "<tr><td>model_fit_eval_425de_00070</td><td style=\"text-align: right;\"> 47.2017 </td></tr>\n",
       "<tr><td>model_fit_eval_425de_00071</td><td style=\"text-align: right;\"> 31.5631 </td></tr>\n",
       "<tr><td>model_fit_eval_425de_00072</td><td style=\"text-align: right;\"> 63.9567 </td></tr>\n",
       "<tr><td>model_fit_eval_425de_00073</td><td style=\"text-align: right;\"> 43.0027 </td></tr>\n",
       "<tr><td>model_fit_eval_425de_00074</td><td style=\"text-align: right;\"> 13.2044 </td></tr>\n",
       "<tr><td>model_fit_eval_425de_00075</td><td style=\"text-align: right;\"> 79.3322 </td></tr>\n",
       "<tr><td>model_fit_eval_425de_00076</td><td style=\"text-align: right;\"> 49.1565 </td></tr>\n",
       "<tr><td>model_fit_eval_425de_00077</td><td style=\"text-align: right;\"> 48.2309 </td></tr>\n",
       "<tr><td>model_fit_eval_425de_00078</td><td style=\"text-align: right;\"> 39.9895 </td></tr>\n",
       "<tr><td>model_fit_eval_425de_00079</td><td style=\"text-align: right;\"> 28.6495 </td></tr>\n",
       "<tr><td>model_fit_eval_425de_00080</td><td style=\"text-align: right;\"> 17.4733 </td></tr>\n",
       "</tbody>\n",
       "</table>\n",
       "</div>\n",
       "<style>\n",
       ".trialProgress {\n",
       "  display: flex;\n",
       "  flex-direction: column;\n",
       "  color: var(--jp-ui-font-color1);\n",
       "}\n",
       ".trialProgress h3 {\n",
       "  font-weight: bold;\n",
       "}\n",
       ".trialProgress td {\n",
       "  white-space: nowrap;\n",
       "}\n",
       "</style>\n"
      ],
      "text/plain": [
       "<IPython.core.display.HTML object>"
      ]
     },
     "metadata": {},
     "output_type": "display_data"
    },
    {
     "name": "stderr",
     "output_type": "stream",
     "text": [
      "2023-10-12 17:40:58,462\tINFO tune.py:1143 -- Total run time: 635.60 seconds (635.50 seconds for the tuning loop).\n"
     ]
    }
   ],
   "source": [
    "# using grid search to get best hyperparameters\n",
    "analysis = tune.run(\n",
    "    model_fit_eval, \n",
    "    config={'hidden_size': tune.grid_search([2, 3, 5]), \n",
    "            'learning_rate': tune.grid_search([0.0005, 0.001, 0.002]), \n",
    "            'num_epochs': tune.grid_search([2000, 4000, 8000]), \n",
    "            'num_layers': tune.grid_search([1, 2, 4])}, \n",
    "    resources_per_trial={'cpu': 2, 'gpu': 0}) # leveraging all resources"
   ]
  },
  {
   "cell_type": "code",
   "execution_count": 14,
   "metadata": {},
   "outputs": [],
   "source": [
    "# # visualizing hyperparameter tuning results\n",
    "# %load_ext tensorboard\n",
    "# %tensorboard --logdir ~/ray_results"
   ]
  },
  {
   "cell_type": "code",
   "execution_count": 15,
   "metadata": {},
   "outputs": [
    {
     "name": "stdout",
     "output_type": "stream",
     "text": [
      "Min MSE: 3.3971247197144887\n",
      "Best trial config: {'hidden_size': 5, 'learning_rate': 0.002, 'num_epochs': 4000, 'num_layers': 1}\n"
     ]
    }
   ],
   "source": [
    "# best hyperparameters\n",
    "best_trial = analysis.get_best_trial(metric='mse', mode='min', scope='all')\n",
    "min_mse = best_trial.metric_analysis['mse']['avg']\n",
    "print(f'Min MSE: {min_mse}')\n",
    "best_trial_config = best_trial.config\n",
    "print(f'Best trial config: {best_trial_config}')"
   ]
  },
  {
   "cell_type": "code",
   "execution_count": 16,
   "metadata": {},
   "outputs": [
    {
     "name": "stdout",
     "output_type": "stream",
     "text": [
      "Epoch: 0, Loss: 0.2281\n",
      "Epoch: 1000, Loss: 0.0001\n",
      "Epoch: 2000, Loss: 0.0001\n",
      "Epoch: 3000, Loss: 0.0000\n",
      "Epoch: 4000, Loss: 0.0000\n",
      "Epoch: 5000, Loss: 0.0000\n",
      "Epoch: 6000, Loss: 0.0000\n",
      "Epoch: 7000, Loss: 0.0000\n",
      "Epoch: 8000, Loss: 0.0000\n",
      "Epoch: 9000, Loss: 0.0000\n",
      "Epoch: 10000, Loss: 0.0000\n"
     ]
    }
   ],
   "source": [
    "# training model using best hyperparameters\n",
    "best_trial_config['num_epochs'] = 10000 # increasing num of epochs\n",
    "y_hat = model_fit_eval(best_config=best_trial_config, save_model_state=True)"
   ]
  },
  {
   "cell_type": "code",
   "execution_count": 17,
   "metadata": {},
   "outputs": [],
   "source": [
    "# shutting down ray runtime\n",
    "ray.shutdown()"
   ]
  },
  {
   "cell_type": "code",
   "execution_count": 18,
   "metadata": {},
   "outputs": [],
   "source": [
    "# function for plotting actual and predicted Adj Close price\n",
    "def plt_graph(start_time, end_time, period, val_line=False):\n",
    "    # plotting actual Adj Close price\n",
    "    plt.plot(tsla_price_df.index, y_true, label='Actual Price')\n",
    "    # plotting predicted Adj Close price\n",
    "    plt.plot(tsla_price_df.index, y_hat, label='Pred Price')\n",
    "    if val_line:\n",
    "        plt.axvline(x=pd.to_datetime(start_time_val), c='r', linestyle='--')\n",
    "    plt.xlabel('Date')\n",
    "    plt.ylabel('Adj Close Price')\n",
    "    plt.title(f'{period} Period')\n",
    "    plt.legend()\n",
    "    plt.show()"
   ]
  },
  {
   "cell_type": "code",
   "execution_count": 19,
   "metadata": {},
   "outputs": [
    {
     "data": {
      "image/png": "[encoded data removed]",
      "text/plain": [
       "<Figure size 800x400 with 1 Axes>"
      ]
     },
     "metadata": {},
     "output_type": "display_data"
    }
   ],
   "source": [
    "# plotting all period\n",
    "period = 'All'\n",
    "plt_graph(start_time_all, end_time_all, period, True)"
   ]
  },
  {
   "cell_type": "code",
   "execution_count": 20,
   "metadata": {},
   "outputs": [
    {
     "name": "stdout",
     "output_type": "stream",
     "text": [
      "MSE (Validation): 13.398169032216723\n"
     ]
    }
   ],
   "source": [
    "period = 'Validation'\n",
    "mse = calc_mse(y_true[n_split:], y_hat[n_split:])\n",
    "print(f'MSE ({period}): {mse}')"
   ]
  }
 ],
 "metadata": {
  "kernelspec": {
   "display_name": "myenv",
   "language": "python",
   "name": "python3"
  },
  "language_info": {
   "codemirror_mode": {
    "name": "ipython",
    "version": 3
   },
   "file_extension": ".py",
   "mimetype": "text/x-python",
   "name": "python",
   "nbconvert_exporter": "python",
   "pygments_lexer": "ipython3",
   "version": "3.8.10"
  }
 },
 "nbformat": 4,
 "nbformat_minor": 2
}
